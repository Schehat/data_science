{
 "cells": [
  {
   "cell_type": "code",
   "execution_count": 1,
   "source": [
    "import numpy as np"
   ],
   "outputs": [],
   "metadata": {}
  },
  {
   "cell_type": "markdown",
   "source": [
    "* ### two ways of specifying dtype (which is the data type of np array)"
   ],
   "metadata": {}
  },
  {
   "cell_type": "code",
   "execution_count": 6,
   "source": [
    "dt = np.dtype('i4')  # i4: 4 byte integer\r\n",
    "print(f\"item size: {dt.itemsize}\")\r\n",
    "print(f\"name: {dt.name}\")\r\n",
    "print(f\"np.dtype('i4') is np.int32: {dt.type is np.int32}\")"
   ],
   "outputs": [
    {
     "output_type": "stream",
     "name": "stdout",
     "text": [
      "item size: 4\n",
      "name: int32\n",
      "np.dtype('i4') is np.int32: True\n"
     ]
    }
   ],
   "metadata": {}
  },
  {
   "cell_type": "markdown",
   "source": [
    "* ### plenty of dtypes available\r\n",
    "* ### unique characters also represent dtype objects "
   ],
   "metadata": {}
  },
  {
   "cell_type": "code",
   "execution_count": 36,
   "source": [
    "np.dtype(np.bool_)\r\n",
    "np.dtype(np.byte)\r\n",
    "np.dtype(np.int64)\r\n",
    "np.dtype(np.float32)\r\n",
    "np.dtype(np.complex128)\r\n",
    "np.dtype(np.object_)\r\n",
    "np.dtype(np.unicode_)\r\n",
    "# and more...\r\n",
    "\r\n",
    "# u: unsigned\r\n",
    "np.dtype(np.uint32)\r\n",
    "\r\n",
    "# or use the build-in python class\r\n",
    "np.dtype(int)"
   ],
   "outputs": [
    {
     "output_type": "execute_result",
     "data": {
      "text/plain": [
       "dtype('int32')"
      ]
     },
     "metadata": {},
     "execution_count": 36
    }
   ],
   "metadata": {}
  },
  {
   "cell_type": "code",
   "execution_count": null,
   "source": [
    "np.dtype(\"i\")  # integer\r\n",
    "np.dtype(\"b\")  # boolean\r\n",
    "np.dtype(\"u\")  # unsigned integer\r\n",
    "np.dtype(\"f\")  # float\r\n",
    "np.dtype(\"c\")  # complex float\r\n",
    "np.dtype(\"m\")  # timedelta\r\n",
    "np.dtype(\"M\")  # datetime\r\n",
    "np.dtype(\"O\")  # object\r\n",
    "np.dtype(\"U\")  # unicode string"
   ],
   "outputs": [],
   "metadata": {}
  },
  {
   "cell_type": "markdown",
   "source": [
    "* ### convert dtype of an existing array"
   ],
   "metadata": {}
  },
  {
   "cell_type": "code",
   "execution_count": 32,
   "source": [
    "arr = np.array([1, 2, 3, 4], np.int32)\r\n",
    "print(arr.dtype)\r\n",
    "\r\n",
    "arr = arr.astype(np.float32)\r\n",
    "print(arr.dtype)"
   ],
   "outputs": [
    {
     "output_type": "stream",
     "name": "stdout",
     "text": [
      "int32\n",
      "float32\n"
     ]
    }
   ],
   "metadata": {}
  }
 ],
 "metadata": {
  "orig_nbformat": 4,
  "language_info": {
   "name": "python",
   "version": "3.9.6",
   "mimetype": "text/x-python",
   "codemirror_mode": {
    "name": "ipython",
    "version": 3
   },
   "pygments_lexer": "ipython3",
   "nbconvert_exporter": "python",
   "file_extension": ".py"
  },
  "kernelspec": {
   "name": "python3",
   "display_name": "Python 3.9.6 64-bit ('venv': venv)"
  },
  "interpreter": {
   "hash": "10bb56018dfb7002895f873d2c51140764030ea9df51df08db65c436f8abe775"
  }
 },
 "nbformat": 4,
 "nbformat_minor": 2
}