{
 "cells": [
  {
   "cell_type": "code",
   "execution_count": 1,
   "source": [
    "import numpy as np"
   ],
   "outputs": [],
   "metadata": {}
  },
  {
   "cell_type": "markdown",
   "source": [
    "## slicing"
   ],
   "metadata": {}
  },
  {
   "cell_type": "code",
   "execution_count": 4,
   "source": [
    "arr = np.array([-1.5, -1.2, 0.0, 2.1, 24.2, 5.0, 13.3, 12.3])\r\n",
    "print(arr[0])\r\n",
    "print(arr[1:7])\r\n",
    "print(arr[1:7:2])\r\n",
    "print(arr[::-1])"
   ],
   "outputs": [
    {
     "output_type": "stream",
     "name": "stdout",
     "text": [
      "-1.5\n",
      "[-1.2  0.   2.1 24.2  5.  13.3]\n",
      "[-1.2  2.1  5. ]\n",
      "[12.3 13.3  5.  24.2  2.1  0.  -1.2 -1.5]\n"
     ]
    }
   ],
   "metadata": {}
  },
  {
   "cell_type": "markdown",
   "source": [
    "## indexing"
   ],
   "metadata": {}
  },
  {
   "cell_type": "code",
   "execution_count": 5,
   "source": [
    "arr = [\r\n",
    "        [\r\n",
    "          [-1.0, -1.2, 0.0, 2.1, 24.2], \r\n",
    "          [-2.0, -1.2, 0.0, 2.1, 24.2],\r\n",
    "          [-3.0, -1.2, 0.0, 2.1, 24.2]\r\n",
    "        ],\r\n",
    "        [\r\n",
    "          [4.0, 0, 0.0, 2.1, 24.2], \r\n",
    "          [5.0, -1.2, 0.0, 2.1, 24.2],\r\n",
    "          [6.0, -1.2, 0.0, 2.1, 24.2]\r\n",
    "        ],\r\n",
    "        [\r\n",
    "          [7.0, 0, 0.0, 2.1, 24.2], \r\n",
    "          [8.0, -1.2, 0.0, 2.1, 24.2],\r\n",
    "          [9.0, -1.2, 0.0, 2.1, 24.2]\r\n",
    "        ]\r\n",
    "      ]\r\n",
    "np_temp = np.array(arr)\r\n",
    "print(np_temp.shape)"
   ],
   "outputs": [
    {
     "output_type": "stream",
     "name": "stdout",
     "text": [
      "(3, 3, 5)\n"
     ]
    }
   ],
   "metadata": {}
  },
  {
   "cell_type": "code",
   "execution_count": 48,
   "source": [
    "row = [[0, 1], [2, 1]]  # first value of row corresponds to first value of column\r\n",
    "column = [[0, 1], [2, 2]]\r\n",
    "print(np_temp[row, column])"
   ],
   "outputs": [
    {
     "output_type": "stream",
     "name": "stdout",
     "text": [
      "[[[-1.  -1.2  0.   2.1 24.2]\n",
      "  [ 5.  -1.2  0.   2.1 24.2]]\n",
      "\n",
      " [[ 9.  -1.2  0.   2.1 24.2]\n",
      "  [ 6.  -1.2  0.   2.1 24.2]]]\n"
     ]
    }
   ],
   "metadata": {}
  }
 ],
 "metadata": {
  "orig_nbformat": 4,
  "language_info": {
   "name": "python",
   "version": "3.9.6",
   "mimetype": "text/x-python",
   "codemirror_mode": {
    "name": "ipython",
    "version": 3
   },
   "pygments_lexer": "ipython3",
   "nbconvert_exporter": "python",
   "file_extension": ".py"
  },
  "kernelspec": {
   "name": "python3",
   "display_name": "Python 3.9.6 64-bit ('venv': venv)"
  },
  "interpreter": {
   "hash": "10bb56018dfb7002895f873d2c51140764030ea9df51df08db65c436f8abe775"
  }
 },
 "nbformat": 4,
 "nbformat_minor": 2
}