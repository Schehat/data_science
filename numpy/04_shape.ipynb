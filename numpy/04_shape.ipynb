{
 "cells": [
  {
   "cell_type": "code",
   "execution_count": 1,
   "source": [
    "import numpy as np"
   ],
   "outputs": [],
   "metadata": {}
  },
  {
   "cell_type": "code",
   "execution_count": 2,
   "source": [
    "arr = np.array([-1.5, -1.2, 0.0, 2.1, 24.2])\r\n",
    "print(arr.shape)"
   ],
   "outputs": [
    {
     "output_type": "stream",
     "name": "stdout",
     "text": [
      "(5,)\n"
     ]
    }
   ],
   "metadata": {}
  },
  {
   "cell_type": "code",
   "execution_count": 3,
   "source": [
    "arr = [[-1.5, -1.2, 0.0, 2.1, 24.2], [-1.5, -1.2, 0.0, 2.1, 24.2]]\r\n",
    "arr = np.array(arr)\r\n",
    "print(arr.shape)\r\n",
    "print(arr.dtype)"
   ],
   "outputs": [
    {
     "output_type": "stream",
     "name": "stdout",
     "text": [
      "(2, 5)\n",
      "float64\n"
     ]
    }
   ],
   "metadata": {}
  },
  {
   "cell_type": "code",
   "execution_count": 4,
   "source": [
    "arr = [['12', -1.2, 0.0, 2.1, 24.2], [-1.5, -1.2, 0.0, 2.1, 24.2]]\r\n",
    "arr = np.array(arr)\r\n",
    "print(arr.shape)\r\n",
    "print(arr.dtype)  # unicode datatypes because of first element '12'"
   ],
   "outputs": [
    {
     "output_type": "stream",
     "name": "stdout",
     "text": [
      "(2, 5)\n",
      "<U32\n"
     ]
    }
   ],
   "metadata": {}
  },
  {
   "cell_type": "code",
   "execution_count": 5,
   "source": [
    "arr = [\r\n",
    "        [\r\n",
    "          [-1.5, -1.2, 0.0, 2.1, 24.2], \r\n",
    "          [-1.5, -1.2, 0.0, 2.1, 24.2]\r\n",
    "        ],\r\n",
    "        [\r\n",
    "          [0, 0, 0.0, 2.1, 24.2], \r\n",
    "          [-1.5, -1.2, 0.0, 2.1, 24.2]\r\n",
    "        ]\r\n",
    "      ]\r\n",
    "arr = np.array(arr)\r\n",
    "print(arr.shape, \"\\n\")\r\n",
    "print(str(arr[0]), '\\n')\r\n",
    "print(arr[1])"
   ],
   "outputs": [
    {
     "output_type": "stream",
     "name": "stdout",
     "text": [
      "(2, 2, 5) \n",
      "\n",
      "[[-1.5 -1.2  0.   2.1 24.2]\n",
      " [-1.5 -1.2  0.   2.1 24.2]] \n",
      "\n",
      "[[ 0.   0.   0.   2.1 24.2]\n",
      " [-1.5 -1.2  0.   2.1 24.2]]\n"
     ]
    }
   ],
   "metadata": {}
  }
 ],
 "metadata": {
  "orig_nbformat": 4,
  "language_info": {
   "name": "python",
   "version": "3.9.6",
   "mimetype": "text/x-python",
   "codemirror_mode": {
    "name": "ipython",
    "version": 3
   },
   "pygments_lexer": "ipython3",
   "nbconvert_exporter": "python",
   "file_extension": ".py"
  },
  "kernelspec": {
   "name": "python3",
   "display_name": "Python 3.9.6 64-bit ('venv': venv)"
  },
  "interpreter": {
   "hash": "10bb56018dfb7002895f873d2c51140764030ea9df51df08db65c436f8abe775"
  }
 },
 "nbformat": 4,
 "nbformat_minor": 2
}