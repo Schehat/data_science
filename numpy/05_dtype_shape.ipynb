{
 "cells": [
  {
   "cell_type": "code",
   "execution_count": 2,
   "source": [
    "import numpy as np"
   ],
   "outputs": [],
   "metadata": {}
  },
  {
   "cell_type": "markdown",
   "source": [
    "* ### determine shape of each element with dtype"
   ],
   "metadata": {}
  },
  {
   "cell_type": "code",
   "execution_count": 24,
   "source": [
    "dt = np.dtype((np.int32, (2, 3)))\r\n",
    "# the empty tuple which declares the shape is empty thus the empty \r\n",
    "# array has the (2, 3) shape for this non-existing element\r\n",
    "print(np.zeros((), dtype=dt))"
   ],
   "outputs": [
    {
     "output_type": "stream",
     "name": "stdout",
     "text": [
      "[[0 0 0]\n",
      " [0 0 0]]\n"
     ]
    }
   ],
   "metadata": {}
  },
  {
   "cell_type": "code",
   "execution_count": 25,
   "source": [
    "dt = np.dtype(np.int32)\r\n",
    "print(np.zeros((), dtype=dt))\r\n",
    "\r\n",
    "dt = np.dtype(np.int32, ())  # is the same as above\r\n",
    "print(np.zeros((), dtype=dt))"
   ],
   "outputs": [
    {
     "output_type": "stream",
     "name": "stdout",
     "text": [
      "0\n",
      "0\n"
     ]
    }
   ],
   "metadata": {}
  },
  {
   "cell_type": "code",
   "execution_count": 26,
   "source": [
    "dt = np.dtype(np.int32)\r\n",
    "print(np.zeros((5, 5), dtype=dt))"
   ],
   "outputs": [
    {
     "output_type": "stream",
     "name": "stdout",
     "text": [
      "[[0 0 0 0 0]\n",
      " [0 0 0 0 0]\n",
      " [0 0 0 0 0]\n",
      " [0 0 0 0 0]\n",
      " [0 0 0 0 0]]\n"
     ]
    }
   ],
   "metadata": {}
  },
  {
   "cell_type": "markdown",
   "source": [
    "* ### Note: shape of array is the shape specified and shape of the dtype was added"
   ],
   "metadata": {}
  },
  {
   "cell_type": "code",
   "execution_count": 29,
   "source": [
    "dt = np.dtype((np.int32, (2, 3)))\r\n",
    "print(np.zeros((1, 1), dtype=dt))\r\n",
    "print(np.zeros((1, 1), dtype=dt).shape)"
   ],
   "outputs": [
    {
     "output_type": "stream",
     "name": "stdout",
     "text": [
      "[[[[0 0 0]\n",
      "   [0 0 0]]]]\n",
      "(1, 1, 2, 3)\n"
     ]
    }
   ],
   "metadata": {}
  },
  {
   "cell_type": "markdown",
   "source": [
    "* ### really crazy shapes are possible"
   ],
   "metadata": {}
  },
  {
   "cell_type": "code",
   "execution_count": 33,
   "source": [
    "dt = np.dtype((\"i8, (2, 3)f8, f8\"), (2, 3))\r\n",
    "print(np.zeros((1), dtype=dt))\r\n",
    "print(np.zeros((1), dtype=dt).shape)"
   ],
   "outputs": [
    {
     "output_type": "stream",
     "name": "stdout",
     "text": [
      "[(0, [[0., 0., 0.], [0., 0., 0.]], 0.)]\n",
      "(1,)\n"
     ]
    }
   ],
   "metadata": {}
  }
 ],
 "metadata": {
  "orig_nbformat": 4,
  "language_info": {
   "name": "python",
   "version": "3.9.6",
   "mimetype": "text/x-python",
   "codemirror_mode": {
    "name": "ipython",
    "version": 3
   },
   "pygments_lexer": "ipython3",
   "nbconvert_exporter": "python",
   "file_extension": ".py"
  },
  "kernelspec": {
   "name": "python3",
   "display_name": "Python 3.9.6 64-bit ('venv': venv)"
  },
  "interpreter": {
   "hash": "10bb56018dfb7002895f873d2c51140764030ea9df51df08db65c436f8abe775"
  }
 },
 "nbformat": 4,
 "nbformat_minor": 2
}