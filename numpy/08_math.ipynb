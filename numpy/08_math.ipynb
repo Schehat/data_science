{
 "cells": [
  {
   "cell_type": "code",
   "execution_count": 1,
   "source": [
    "import numpy as np"
   ],
   "outputs": [],
   "metadata": {}
  },
  {
   "cell_type": "markdown",
   "source": [
    "* ### np arrays behave like vectors. Basic operations like +, -, *, /, **"
   ],
   "metadata": {}
  },
  {
   "cell_type": "code",
   "execution_count": 2,
   "source": [
    "A = np.array([\r\n",
    "              [1, 2, 3], \r\n",
    "              [4, 5, 6], \r\n",
    "              [7, 8, 9]\r\n",
    "            ])\r\n",
    "B = np.array([\r\n",
    "              [1, 2, 3], \r\n",
    "              [4, 5, 6], \r\n",
    "              [7, 8, 9]\r\n",
    "            ])"
   ],
   "outputs": [],
   "metadata": {}
  },
  {
   "cell_type": "code",
   "execution_count": 4,
   "source": [
    "print(A*B, '\\n')  # is in numpy not the real matrix multiplication\r\n",
    "print(np.dot(A, B))  # real matrix multiplication"
   ],
   "outputs": [
    {
     "output_type": "stream",
     "name": "stdout",
     "text": [
      "[[ 1  4  9]\n",
      " [16 25 36]\n",
      " [49 64 81]] \n",
      "\n",
      "[[ 30  36  42]\n",
      " [ 66  81  96]\n",
      " [102 126 150]]\n"
     ]
    }
   ],
   "metadata": {}
  },
  {
   "cell_type": "markdown",
   "source": [
    "* ### logic"
   ],
   "metadata": {}
  },
  {
   "cell_type": "code",
   "execution_count": 6,
   "source": [
    "print(A==B, '\\n')  # element wise\r\n",
    "\r\n",
    "F = np.array([[True, True, False], [False, False, True], [True, True, True]])\r\n",
    "G = np.array([[False, True, False], [False, True, False], [True, True, False]])\r\n",
    "\r\n",
    "print(np.logical_or(F, G), '\\n')\r\n",
    "print(np.logical_and(F, G))"
   ],
   "outputs": [
    {
     "output_type": "stream",
     "name": "stdout",
     "text": [
      "[[ True  True  True]\n",
      " [ True  True  True]\n",
      " [ True  True  True]] \n",
      "\n",
      "[[ True  True False]\n",
      " [False  True  True]\n",
      " [ True  True  True]] \n",
      "\n",
      "[[False  True False]\n",
      " [False False False]\n",
      " [ True  True False]]\n"
     ]
    }
   ],
   "metadata": {}
  },
  {
   "cell_type": "markdown",
   "source": [
    "* ### matrix & vector"
   ],
   "metadata": {}
  },
  {
   "cell_type": "code",
   "execution_count": 11,
   "source": [
    "a = np.array([1, 2, 3])\r\n",
    "print(a*A, '\\n')  # broadcasting\r\n",
    "print(a+A, '\\n')  # broadcasting"
   ],
   "outputs": [
    {
     "output_type": "stream",
     "name": "stdout",
     "text": [
      "[[ 1  4  9]\n",
      " [ 4 10 18]\n",
      " [ 7 16 27]] \n",
      "\n",
      "[[ 2  4  6]\n",
      " [ 5  7  9]\n",
      " [ 8 10 12]] \n",
      "\n"
     ]
    }
   ],
   "metadata": {}
  },
  {
   "cell_type": "markdown",
   "source": [
    "* ### transpose on vectors does not work like is should do"
   ],
   "metadata": {}
  },
  {
   "cell_type": "code",
   "execution_count": 12,
   "source": [
    "print(a.transpose()*A, '\\n')\r\n",
    "print(a.transpose(), '\\n')  # tanspose did not change the array"
   ],
   "outputs": [
    {
     "output_type": "stream",
     "name": "stdout",
     "text": [
      "[[ 1  4  9]\n",
      " [ 4 10 18]\n",
      " [ 7 16 27]] \n",
      "\n",
      "[1 2 3] \n",
      "\n"
     ]
    }
   ],
   "metadata": {}
  },
  {
   "cell_type": "markdown",
   "source": [
    "* ### need to convert vector to matrix and adjust shape to matrix, then transpose works"
   ],
   "metadata": {}
  },
  {
   "cell_type": "code",
   "execution_count": 22,
   "source": [
    "a = np.array([[1, 2, 3]]*3).transpose()\r\n",
    "print(a, '\\n')\r\n",
    "print(a*A, '\\n')\r\n",
    "\r\n",
    "# alternative, create column vector by creating 2d matrix and transpose\r\n",
    "print(np.array([[1, 2, 3]]).transpose()*A)"
   ],
   "outputs": [
    {
     "output_type": "stream",
     "name": "stdout",
     "text": [
      "[[1 1 1]\n",
      " [2 2 2]\n",
      " [3 3 3]] \n",
      "\n",
      "[[ 1  2  3]\n",
      " [ 8 10 12]\n",
      " [21 24 27]] \n",
      "\n",
      "[[ 1  2  3]\n",
      " [ 8 10 12]\n",
      " [21 24 27]]\n"
     ]
    }
   ],
   "metadata": {}
  }
 ],
 "metadata": {
  "orig_nbformat": 4,
  "language_info": {
   "name": "python",
   "version": "3.9.6",
   "mimetype": "text/x-python",
   "codemirror_mode": {
    "name": "ipython",
    "version": 3
   },
   "pygments_lexer": "ipython3",
   "nbconvert_exporter": "python",
   "file_extension": ".py"
  },
  "kernelspec": {
   "name": "python3",
   "display_name": "Python 3.9.6 64-bit ('venv': venv)"
  },
  "interpreter": {
   "hash": "10bb56018dfb7002895f873d2c51140764030ea9df51df08db65c436f8abe775"
  }
 },
 "nbformat": 4,
 "nbformat_minor": 2
}