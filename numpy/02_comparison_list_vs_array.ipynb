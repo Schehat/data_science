{
 "cells": [
  {
   "cell_type": "code",
   "execution_count": 1,
   "source": [
    "import numpy as np\r\n",
    "from sys import getsizeof\r\n",
    "import random\r\n",
    "import time"
   ],
   "outputs": [],
   "metadata": {}
  },
  {
   "cell_type": "markdown",
   "source": [
    "## compare sizes\r\n",
    "* ### getsizeof: returns bytes\r\n",
    "* ### Note: np array takes more space in this example due to np arrays <br>save additional space for general information like min and max"
   ],
   "metadata": {}
  },
  {
   "cell_type": "code",
   "execution_count": 2,
   "source": [
    "li = [-1.5, -1.2, 0.0, 2.1, 24.2]\r\n",
    "np_arr = np.array(li)\r\n",
    "\r\n",
    "print(f\"size of python list: {getsizeof(li)}\")\r\n",
    "print(f\"size of np array: {getsizeof(np_arr)}\")"
   ],
   "outputs": [
    {
     "output_type": "stream",
     "name": "stdout",
     "text": [
      "size of python list: 120\n",
      "size of np array: 144\n"
     ]
    }
   ],
   "metadata": {}
  },
  {
   "cell_type": "markdown",
   "source": [
    "* ### np arrays more scalable than lists referring to space"
   ],
   "metadata": {}
  },
  {
   "cell_type": "code",
   "execution_count": 3,
   "source": [
    "size = 1_000_000\r\n",
    "li = [random.randint(0, 20) for _ in range(size)]\r\n",
    "np_arr = np.array(li)\r\n",
    "\r\n",
    "size_li = getsizeof(li)\r\n",
    "size_np_arr = getsizeof(np_arr)\r\n",
    "\r\n",
    "print(f\"size of python list: {size_li}\")\r\n",
    "print(f\"size of np array: {size_np_arr}\")\r\n",
    "print(f\"np array {size_li/size_np_arr} times smaller\")"
   ],
   "outputs": [
    {
     "output_type": "stream",
     "name": "stdout",
     "text": [
      "size of python list: 8448728\n",
      "size of np array: 4000104\n",
      "np array 2.112127084695798 times smaller\n"
     ]
    }
   ],
   "metadata": {}
  },
  {
   "cell_type": "markdown",
   "source": [
    "## compare speed\r\n",
    "* ### np arrays much faster than lists"
   ],
   "metadata": {}
  },
  {
   "cell_type": "code",
   "execution_count": 4,
   "source": [
    "X = [random.randint(0, 200) for _ in range(size)]\r\n",
    "Y = [random.randint(0, 200) for _ in range(size)]\r\n",
    "\r\n",
    "np_X = np.array(X, np.int64)\r\n",
    "np_Y = np.array(Y, np.int64)\r\n",
    "\r\n",
    "# with list\r\n",
    "start_py = time.process_time()\r\n",
    "[X + Y for X, Y in zip(X, Y)]\r\n",
    "end_py = time.process_time()\r\n",
    "print(f\"time of python list: {end_py - start_py}\")\r\n",
    "\r\n",
    "# with np\r\n",
    "start_np = time.process_time()\r\n",
    "np_X + np_Y\r\n",
    "end_np = time.process_time()\r\n",
    "print(f\"time of python list: {end_np - start_np}\")\r\n",
    "\r\n",
    "print(f\"np array {(end_py - start_py)/(end_np - start_np)} times faster\")"
   ],
   "outputs": [
    {
     "output_type": "stream",
     "name": "stdout",
     "text": [
      "time of python list: 0.125\n",
      "time of python list: 0.015625\n",
      "np array 8.0 times faster\n"
     ]
    }
   ],
   "metadata": {}
  }
 ],
 "metadata": {
  "orig_nbformat": 4,
  "language_info": {
   "name": "python",
   "version": "3.9.6",
   "mimetype": "text/x-python",
   "codemirror_mode": {
    "name": "ipython",
    "version": 3
   },
   "pygments_lexer": "ipython3",
   "nbconvert_exporter": "python",
   "file_extension": ".py"
  },
  "kernelspec": {
   "name": "python3",
   "display_name": "Python 3.9.6 64-bit ('venv': venv)"
  },
  "interpreter": {
   "hash": "10bb56018dfb7002895f873d2c51140764030ea9df51df08db65c436f8abe775"
  }
 },
 "nbformat": 4,
 "nbformat_minor": 2
}