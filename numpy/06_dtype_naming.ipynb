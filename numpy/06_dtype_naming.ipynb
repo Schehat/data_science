{
 "cells": [
  {
   "cell_type": "code",
   "execution_count": 1,
   "source": [
    "import numpy as np"
   ],
   "outputs": [],
   "metadata": {}
  },
  {
   "cell_type": "code",
   "execution_count": 8,
   "source": [
    "dt = np.dtype([(\"r\", \"u1\"), (\"g\", \"u1\"), (\"b\", \"u1\"), (\"a\", \"u1\")])\r\n",
    "print(np.zeros((), dtype=dt))\r\n",
    "print(np.zeros((), dtype=dt).dtype)\r\n",
    "print(np.zeros((), dtype=dt).shape)\r\n",
    "\r\n",
    "arr = np.zeros((2, 2), dtype=dt)\r\n",
    "arr[\"r\"][0][0] = 255\r\n",
    "print(arr)"
   ],
   "outputs": [
    {
     "output_type": "stream",
     "name": "stdout",
     "text": [
      "(0, 0, 0, 0)\n",
      "[('r', 'u1'), ('g', 'u1'), ('b', 'u1'), ('a', 'u1')]\n",
      "()\n",
      "[[(255, 0, 0, 0) (  0, 0, 0, 0)]\n",
      " [(  0, 0, 0, 0) (  0, 0, 0, 0)]]\n"
     ]
    }
   ],
   "metadata": {}
  }
 ],
 "metadata": {
  "orig_nbformat": 4,
  "language_info": {
   "name": "python",
   "version": "3.9.6",
   "mimetype": "text/x-python",
   "codemirror_mode": {
    "name": "ipython",
    "version": 3
   },
   "pygments_lexer": "ipython3",
   "nbconvert_exporter": "python",
   "file_extension": ".py"
  },
  "kernelspec": {
   "name": "python3",
   "display_name": "Python 3.9.6 64-bit ('venv': venv)"
  },
  "interpreter": {
   "hash": "10bb56018dfb7002895f873d2c51140764030ea9df51df08db65c436f8abe775"
  }
 },
 "nbformat": 4,
 "nbformat_minor": 2
}