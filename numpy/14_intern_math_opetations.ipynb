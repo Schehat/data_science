{
 "cells": [
  {
   "cell_type": "code",
   "execution_count": 1,
   "source": [
    "import numpy as np"
   ],
   "outputs": [],
   "metadata": {}
  },
  {
   "cell_type": "code",
   "execution_count": 2,
   "source": [
    "A = np.array([1, 2, 3])\r\n",
    "B = np.array([4, 5, 6])"
   ],
   "outputs": [],
   "metadata": {}
  },
  {
   "cell_type": "code",
   "execution_count": 3,
   "source": [
    "print(np.sin(A))\r\n",
    "print(np.exp(A))   # e^A\r\n",
    "print(np.exp2(A))  # 2^A\r\n",
    "print(np.power(A, 3))  # A^3\r\n",
    "print(np.log(A))  # ln(V)\r\n",
    "print(np.log2(A))  # log_2(V)\r\n",
    "print(np.log10(A))  "
   ],
   "outputs": [
    {
     "output_type": "stream",
     "name": "stdout",
     "text": [
      "[0.84147098 0.90929743 0.14112001]\n",
      "[ 2.71828183  7.3890561  20.08553692]\n",
      "[2. 4. 8.]\n",
      "[ 1  8 27]\n",
      "[0.         0.69314718 1.09861229]\n",
      "[0.        1.        1.5849625]\n",
      "[0.         0.30103    0.47712125]\n"
     ]
    }
   ],
   "metadata": {}
  },
  {
   "cell_type": "code",
   "execution_count": 5,
   "source": [
    "print(np.argmax(A))  # get index of biggest element"
   ],
   "outputs": [
    {
     "output_type": "stream",
     "name": "stdout",
     "text": [
      "2\n"
     ]
    }
   ],
   "metadata": {}
  },
  {
   "cell_type": "code",
   "execution_count": 6,
   "source": [
    "ran = np.random.random(10)\r\n",
    "print(ran)"
   ],
   "outputs": [
    {
     "output_type": "stream",
     "name": "stdout",
     "text": [
      "[0.92779681 0.65784212 0.72439296 0.50029053 0.31852339 0.74608786\n",
      " 0.00349379 0.88035863 0.20956064 0.5100936 ]\n"
     ]
    }
   ],
   "metadata": {}
  },
  {
   "cell_type": "code",
   "execution_count": 7,
   "source": [
    "# returns sorted array in which elements are the indexes of original array \r\n",
    "print(np.argsort(ran))"
   ],
   "outputs": [
    {
     "output_type": "stream",
     "name": "stdout",
     "text": [
      "[6 8 4 3 9 1 2 5 7 0]\n"
     ]
    }
   ],
   "metadata": {}
  },
  {
   "cell_type": "code",
   "execution_count": 8,
   "source": [
    "# add at specific indexes, here is normal addition with +1\r\n",
    "np.add.at(ran, [x for x in range(10)], 1)\r\n",
    "print(ran)\r\n",
    "\r\n",
    "# here add every 2nd element by 1\r\n",
    "np.add.at(ran, [x for x in range(0, 10, 2)], 1) \r\n",
    "print(ran)"
   ],
   "outputs": [
    {
     "output_type": "stream",
     "name": "stdout",
     "text": [
      "[1.92779681 1.65784212 1.72439296 1.50029053 1.31852339 1.74608786\n",
      " 1.00349379 1.88035863 1.20956064 1.5100936 ]\n",
      "[2.92779681 1.65784212 2.72439296 1.50029053 2.31852339 1.74608786\n",
      " 2.00349379 1.88035863 2.20956064 1.5100936 ]\n"
     ]
    }
   ],
   "metadata": {}
  }
 ],
 "metadata": {
  "orig_nbformat": 4,
  "language_info": {
   "name": "python",
   "version": "3.9.6",
   "mimetype": "text/x-python",
   "codemirror_mode": {
    "name": "ipython",
    "version": 3
   },
   "pygments_lexer": "ipython3",
   "nbconvert_exporter": "python",
   "file_extension": ".py"
  },
  "kernelspec": {
   "name": "python3",
   "display_name": "Python 3.9.6 64-bit ('venv': venv)"
  },
  "interpreter": {
   "hash": "10bb56018dfb7002895f873d2c51140764030ea9df51df08db65c436f8abe775"
  }
 },
 "nbformat": 4,
 "nbformat_minor": 2
}