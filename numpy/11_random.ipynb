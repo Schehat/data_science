{
 "cells": [
  {
   "cell_type": "code",
   "execution_count": 4,
   "source": [
    "import numpy as np\r\n",
    "from numpy.random import choice, randint, binomial"
   ],
   "outputs": [],
   "metadata": {}
  },
  {
   "cell_type": "markdown",
   "source": [
    "## choice"
   ],
   "metadata": {}
  },
  {
   "cell_type": "code",
   "execution_count": 5,
   "source": [
    "a = np.array(['A', 'B', 'C'])\r\n",
    "ps = [0.2, 0.5, 0.3]  # add up to 1\r\n",
    "# generates random sample given a sample & weight\r\n",
    "print(choice(a, size=(5, 10), p=ps))"
   ],
   "outputs": [
    {
     "output_type": "stream",
     "name": "stdout",
     "text": [
      "[['C' 'B' 'A' 'C' 'C' 'A' 'B' 'B' 'C' 'B']\n",
      " ['B' 'B' 'C' 'A' 'C' 'C' 'B' 'B' 'B' 'B']\n",
      " ['B' 'B' 'B' 'B' 'B' 'B' 'A' 'B' 'B' 'C']\n",
      " ['C' 'C' 'A' 'C' 'B' 'B' 'A' 'B' 'C' 'B']\n",
      " ['B' 'C' 'A' 'B' 'A' 'C' 'A' 'B' 'C' 'C']]\n"
     ]
    }
   ],
   "metadata": {}
  },
  {
   "cell_type": "markdown",
   "source": [
    "## randint"
   ],
   "metadata": {}
  },
  {
   "cell_type": "code",
   "execution_count": 7,
   "source": [
    "print(randint(1, 41, size=(3, 3)))"
   ],
   "outputs": [
    {
     "output_type": "stream",
     "name": "stdout",
     "text": [
      "[[32 34 26]\n",
      " [ 1 17 17]\n",
      " [34 15 36]]\n"
     ]
    }
   ],
   "metadata": {}
  },
  {
   "cell_type": "markdown",
   "source": [
    "## binomial distribution"
   ],
   "metadata": {}
  },
  {
   "cell_type": "code",
   "execution_count": 8,
   "source": [
    "print(binomial(100, 0.3, (50)))"
   ],
   "outputs": [
    {
     "output_type": "stream",
     "name": "stdout",
     "text": [
      "[30 28 32 26 33 35 28 30 27 32 33 31 31 33 36 31 25 37 34 37 21 32 30 34\n",
      " 34 24 26 26 38 29 34 32 38 25 34 36 29 27 25 34 31 25 26 33 28 33 28 34\n",
      " 23 29]\n"
     ]
    }
   ],
   "metadata": {}
  }
 ],
 "metadata": {
  "orig_nbformat": 4,
  "language_info": {
   "name": "python",
   "version": "3.9.6",
   "mimetype": "text/x-python",
   "codemirror_mode": {
    "name": "ipython",
    "version": 3
   },
   "pygments_lexer": "ipython3",
   "nbconvert_exporter": "python",
   "file_extension": ".py"
  },
  "kernelspec": {
   "name": "python3",
   "display_name": "Python 3.9.6 64-bit ('venv': venv)"
  },
  "interpreter": {
   "hash": "10bb56018dfb7002895f873d2c51140764030ea9df51df08db65c436f8abe775"
  }
 },
 "nbformat": 4,
 "nbformat_minor": 2
}