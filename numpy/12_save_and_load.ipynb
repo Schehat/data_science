{
 "cells": [
  {
   "cell_type": "code",
   "execution_count": 3,
   "source": [
    "import numpy as np\r\n",
    "from numpy.random import randint"
   ],
   "outputs": [],
   "metadata": {}
  },
  {
   "cell_type": "code",
   "execution_count": 6,
   "source": [
    "A = randint(1, 100, size=(3, 4))\r\n",
    "print(A)\r\n",
    "\r\n",
    "np.savetxt(\"12_test_save.csv\", A, fmt='%u', delimiter=',')\r\n",
    "#  fmt: format, standard is '%.18e' => 18 digits after comma\r\n",
    "# delimeter: stanard is ' '  \r\n",
    "\r\n",
    "B = np.loadtxt('12_test_save.csv', delimiter=',', dtype=np.int32)\r\n",
    "print(B)"
   ],
   "outputs": [
    {
     "output_type": "stream",
     "name": "stdout",
     "text": [
      "[[22 64 63 94]\n",
      " [49 79 86 16]\n",
      " [76 82 58 63]]\n",
      "[[22 64 63 94]\n",
      " [49 79 86 16]\n",
      " [76 82 58 63]]\n"
     ]
    }
   ],
   "metadata": {}
  }
 ],
 "metadata": {
  "orig_nbformat": 4,
  "language_info": {
   "name": "python",
   "version": "3.9.6",
   "mimetype": "text/x-python",
   "codemirror_mode": {
    "name": "ipython",
    "version": 3
   },
   "pygments_lexer": "ipython3",
   "nbconvert_exporter": "python",
   "file_extension": ".py"
  },
  "kernelspec": {
   "name": "python3",
   "display_name": "Python 3.9.6 64-bit ('venv': venv)"
  },
  "interpreter": {
   "hash": "10bb56018dfb7002895f873d2c51140764030ea9df51df08db65c436f8abe775"
  }
 },
 "nbformat": 4,
 "nbformat_minor": 2
}