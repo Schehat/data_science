{
 "cells": [
  {
   "cell_type": "code",
   "execution_count": 1,
   "source": [
    "%matplotlib widget\r\n",
    "from matplotlib import pyplot as plt"
   ],
   "outputs": [],
   "metadata": {}
  },
  {
   "cell_type": "code",
   "execution_count": 2,
   "source": [
    "BLACK = \"#000000\"\r\n",
    "BLUE = \"#0f50d1\"\r\n",
    "RED = \"#de3e0d\"\r\n",
    "YELLOW = \"#debf0d\"\r\n",
    "GREEN = \"#0fd115\"\r\n",
    "ORANGE = \"#e3740b\""
   ],
   "outputs": [],
   "metadata": {}
  },
  {
   "cell_type": "code",
   "execution_count": 4,
   "source": [
    "plt.close()\r\n",
    "plt.style.use(\"fivethirtyeight\")\r\n",
    "plt.figure(figsize=(6, 3))\r\n",
    "plt.title(\"Pie Chart\")\r\n",
    "\r\n",
    "# edits font size for all labels except title\r\n",
    "plt.rcParams['font.size'] = 10\r\n",
    "\r\n",
    "slices = [59219, 55466, 47544, 36443, 35917]\r\n",
    "labels = ['JavaScript', 'HTML/CSS', 'SQL', 'Python', 'Java']\r\n",
    "colors = [YELLOW, RED, GREEN, BLUE, ORANGE]\r\n",
    "\r\n",
    "# explode: offset of slice for highlighting\r\n",
    "# 0.1 means 10% of the radius of the pie chart\r\n",
    "explode = [0, 0, 0, 0.2, 0] \r\n",
    "\r\n",
    "# shadow: adds shadows for 3d display\r\n",
    "# startangle: rotates pie chart 90° in mathematical direction \r\n",
    "# autopct: shows percentage of each slice\r\n",
    "plt.pie(slices, labels=labels, colors=colors, explode=explode, autopct=\"%1.1f%%\",\r\n",
    "        shadow=True, startangle=90, wedgeprops={\"edgecolor\": BLACK})\r\n",
    "\r\n",
    "plt.tight_layout()\r\n",
    "plt.show()"
   ],
   "outputs": [
    {
     "output_type": "display_data",
     "data": {
      "application/vnd.jupyter.widget-view+json": {
       "version_major": 2,
       "version_minor": 0,
       "model_id": "9727357de947425f8b5c74f055a544cb"
      },
      "text/plain": [
       "Canvas(toolbar=Toolbar(toolitems=[('Home', 'Reset original view', 'home', 'home'), ('Back', 'Back to previous …"
      ]
     },
     "metadata": {}
    }
   ],
   "metadata": {}
  }
 ],
 "metadata": {
  "orig_nbformat": 4,
  "language_info": {
   "name": "python",
   "version": "3.9.6",
   "mimetype": "text/x-python",
   "codemirror_mode": {
    "name": "ipython",
    "version": 3
   },
   "pygments_lexer": "ipython3",
   "nbconvert_exporter": "python",
   "file_extension": ".py"
  },
  "kernelspec": {
   "name": "python3",
   "display_name": "Python 3.9.6 64-bit ('venv': venv)"
  },
  "interpreter": {
   "hash": "10bb56018dfb7002895f873d2c51140764030ea9df51df08db65c436f8abe775"
  }
 },
 "nbformat": 4,
 "nbformat_minor": 2
}