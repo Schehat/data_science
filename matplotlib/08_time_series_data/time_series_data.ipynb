{
 "cells": [
  {
   "cell_type": "code",
   "execution_count": 21,
   "source": [
    "%matplotlib widget\r\n",
    "from matplotlib import pyplot as plt\r\n",
    "import pandas as pd\r\n",
    "from datetime import datetime, timedelta\r\n",
    "from matplotlib import dates as mpl_dates"
   ],
   "outputs": [],
   "metadata": {}
  },
  {
   "cell_type": "code",
   "execution_count": 22,
   "source": [
    "data = pd.read_csv(r\"..\\bitcoin_data.csv\")\r\n",
    "\r\n",
    "# convert column to correct data type & sort if dates are mixed\r\n",
    "data[\"Date\"] = pd.to_datetime(data[\"Date\"])\r\n",
    "data.sort_values(\"Date\", inplace=True)\r\n",
    "\r\n",
    "price_date = data[\"Date\"]\r\n",
    "price_close = data[\"Close\"]"
   ],
   "outputs": [],
   "metadata": {}
  },
  {
   "cell_type": "code",
   "execution_count": 23,
   "source": [
    "plt.close()\r\n",
    "plt.style.use('seaborn')\r\n",
    "plt.figure(figsize=(8, 3))\r\n",
    "plt.title('Bitcoin Prices')\r\n",
    "plt.xlabel('Date')\r\n",
    "plt.ylabel('Closing Price')\r\n",
    "\r\n",
    "plt.plot_date(price_date, price_close, linestyle=\"solid\")\r\n",
    "\r\n",
    "# gcf: get current figure, autofmt: auto format \r\n",
    "plt.gcf().autofmt_xdate()\r\n",
    "\r\n",
    "date_format = mpl_dates.DateFormatter(\"%d %b %Y\")\r\n",
    "\r\n",
    "plt.gca().xaxis.set_major_formatter(date_format)\r\n",
    "\r\n",
    "plt.tight_layout()\r\n",
    "\r\n",
    "plt.show()"
   ],
   "outputs": [
    {
     "output_type": "display_data",
     "data": {
      "application/vnd.jupyter.widget-view+json": {
       "version_major": 2,
       "version_minor": 0,
       "model_id": "91979b3466874f1dbf40c14ccb3a1514"
      },
      "text/plain": [
       "Canvas(toolbar=Toolbar(toolitems=[('Home', 'Reset original view', 'home', 'home'), ('Back', 'Back to previous …"
      ]
     },
     "metadata": {}
    }
   ],
   "metadata": {}
  }
 ],
 "metadata": {
  "orig_nbformat": 4,
  "language_info": {
   "name": "python",
   "version": "3.9.6",
   "mimetype": "text/x-python",
   "codemirror_mode": {
    "name": "ipython",
    "version": 3
   },
   "pygments_lexer": "ipython3",
   "nbconvert_exporter": "python",
   "file_extension": ".py"
  },
  "kernelspec": {
   "name": "python3",
   "display_name": "Python 3.9.6 64-bit ('venv': venv)"
  },
  "interpreter": {
   "hash": "10bb56018dfb7002895f873d2c51140764030ea9df51df08db65c436f8abe775"
  }
 },
 "nbformat": 4,
 "nbformat_minor": 2
}