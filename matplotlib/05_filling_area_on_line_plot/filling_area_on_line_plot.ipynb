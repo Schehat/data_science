{
 "cells": [
  {
   "cell_type": "code",
   "execution_count": 1,
   "source": [
    "%matplotlib widget\r\n",
    "from matplotlib import pyplot as plt\r\n",
    "import pandas as pd\r\n",
    "import numpy as np"
   ],
   "outputs": [],
   "metadata": {}
  },
  {
   "cell_type": "code",
   "execution_count": 2,
   "source": [
    "GREY = \"#444444\"\r\n",
    "RED = \"#de3e0d\"\r\n",
    "GREEN = \"#0fd115\""
   ],
   "outputs": [],
   "metadata": {}
  },
  {
   "cell_type": "code",
   "execution_count": 3,
   "source": [
    "data = pd.read_csv(r\"..\\\\salary_data.csv\")\r\n",
    "ages = data[\"Age\"]\r\n",
    "dev_salaries = data[\"All_Devs\"]\r\n",
    "py_salaries = data[\"Python\"]\r\n",
    "js_salaries = data[\"JavaScript\"]"
   ],
   "outputs": [],
   "metadata": {}
  },
  {
   "cell_type": "code",
   "execution_count": 4,
   "source": [
    "plt.close()\r\n",
    "\r\n",
    "plt.plot(ages, dev_salaries, color=GREY, linestyle='--', label='All Devs')\r\n",
    "\r\n",
    "plt.plot(ages, py_salaries, label='Python')\r\n",
    "\r\n",
    "overall_median = np.median(dev_salaries)\r\n",
    "\r\n",
    "# 1: x-axes\r\n",
    "# 2: y-axes\r\n",
    "# 3: can be given positional or default - y2=0 will fill in between y and y2\r\n",
    "# interpolate: default=False, takes care that area is filled to the intersection\r\n",
    "# otherwise it will only fill to the x-axis specified value e.g. will round if intersection\r\n",
    "# is between 2 ages\r\n",
    "# default alpha=1 given in percantage\r\n",
    "plt.fill_between(ages, py_salaries, y2=overall_median, where=(py_salaries > overall_median), \r\n",
    "                interpolate=True, alpha=0.25, color=GREEN, label=\"above median\")\r\n",
    "\r\n",
    "plt.fill_between(ages, py_salaries, y2=overall_median, where=(py_salaries <= overall_median), \r\n",
    "                interpolate=True, alpha=0.25, color=RED, label=\"below median\")\r\n",
    "\r\n",
    "plt.legend()\r\n",
    "\r\n",
    "plt.title('Median Salary (USD) by Age')\r\n",
    "plt.xlabel('Ages')\r\n",
    "plt.ylabel('Median Salary (USD)')\r\n",
    "\r\n",
    "plt.tight_layout()\r\n",
    "plt.show()"
   ],
   "outputs": [
    {
     "output_type": "display_data",
     "data": {
      "application/vnd.jupyter.widget-view+json": {
       "version_major": 2,
       "version_minor": 0,
       "model_id": "324a960274cb4f1d9be15f311aba68b6"
      },
      "text/plain": [
       "Canvas(toolbar=Toolbar(toolitems=[('Home', 'Reset original view', 'home', 'home'), ('Back', 'Back to previous …"
      ]
     },
     "metadata": {}
    }
   ],
   "metadata": {}
  }
 ],
 "metadata": {
  "orig_nbformat": 4,
  "language_info": {
   "name": "python",
   "version": "3.9.6",
   "mimetype": "text/x-python",
   "codemirror_mode": {
    "name": "ipython",
    "version": 3
   },
   "pygments_lexer": "ipython3",
   "nbconvert_exporter": "python",
   "file_extension": ".py"
  },
  "kernelspec": {
   "name": "python3",
   "display_name": "Python 3.9.6 64-bit ('venv': venv)"
  },
  "interpreter": {
   "hash": "10bb56018dfb7002895f873d2c51140764030ea9df51df08db65c436f8abe775"
  }
 },
 "nbformat": 4,
 "nbformat_minor": 2
}