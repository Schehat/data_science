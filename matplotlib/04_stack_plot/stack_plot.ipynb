{
 "cells": [
  {
   "cell_type": "code",
   "execution_count": 29,
   "source": [
    "%matplotlib widget\r\n",
    "from matplotlib import pyplot as plt"
   ],
   "outputs": [],
   "metadata": {}
  },
  {
   "cell_type": "code",
   "execution_count": 31,
   "source": [
    "BLUE = \"#0f50d1\"\r\n",
    "RED = \"#de3e0d\"\r\n",
    "YELLOW = \"#debf0d\""
   ],
   "outputs": [],
   "metadata": {}
  },
  {
   "cell_type": "code",
   "execution_count": 30,
   "source": [
    "minutes = [1, 2, 3, 4, 5, 6, 7, 8, 9]\r\n",
    "\r\n",
    "player1 = [1, 2, 3, 3, 4, 4, 4, 4, 5]\r\n",
    "player2 = [1, 1, 1, 1, 2, 2, 2, 3, 4]\r\n",
    "player3 = [1, 1, 1, 2, 2, 2, 3, 3, 3]"
   ],
   "outputs": [],
   "metadata": {}
  },
  {
   "cell_type": "code",
   "execution_count": 33,
   "source": [
    "plt.close()\r\n",
    "plt.style.use(\"fivethirtyeight\")\r\n",
    "plt.figure(figsize=(6, 3))\r\n",
    "plt.rcParams[\"font.size\"] = 10\r\n",
    "\r\n",
    "labels = [\"player1\", \"player2\", \"player3\"]\r\n",
    "colors = [YELLOW, RED, BLUE]\r\n",
    "\r\n",
    "# 1. x-axis\r\n",
    "# 2-4...: pass data separately as lists\r\n",
    "plt.stackplot(minutes, player1, player2, player3, labels=labels, colors=colors)\r\n",
    "\r\n",
    "plt.title(\"Stack Plot\")\r\n",
    "\r\n",
    "# plt.legend(loc=\"upper left\")\r\n",
    "# (0, 0) is bottom left corner. Values contain percentage offset\r\n",
    "plt.legend(loc=(0.06, 0.63))\r\n",
    "\r\n",
    "plt.tight_layout()\r\n",
    "plt.show()"
   ],
   "outputs": [
    {
     "output_type": "display_data",
     "data": {
      "application/vnd.jupyter.widget-view+json": {
       "version_major": 2,
       "version_minor": 0,
       "model_id": "fc27ce14b8904384a49b31fb00199d82"
      },
      "text/plain": [
       "Canvas(toolbar=Toolbar(toolitems=[('Home', 'Reset original view', 'home', 'home'), ('Back', 'Back to previous …"
      ]
     },
     "metadata": {}
    }
   ],
   "metadata": {}
  }
 ],
 "metadata": {
  "orig_nbformat": 4,
  "language_info": {
   "name": "python",
   "version": "3.9.6",
   "mimetype": "text/x-python",
   "codemirror_mode": {
    "name": "ipython",
    "version": 3
   },
   "pygments_lexer": "ipython3",
   "nbconvert_exporter": "python",
   "file_extension": ".py"
  },
  "kernelspec": {
   "name": "python3",
   "display_name": "Python 3.9.6 64-bit ('venv': venv)"
  },
  "interpreter": {
   "hash": "10bb56018dfb7002895f873d2c51140764030ea9df51df08db65c436f8abe775"
  }
 },
 "nbformat": 4,
 "nbformat_minor": 2
}