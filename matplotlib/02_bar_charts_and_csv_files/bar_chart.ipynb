{
 "cells": [
  {
   "cell_type": "code",
   "execution_count": 21,
   "source": [
    "%matplotlib widget\r\n",
    "from matplotlib import pyplot as plt\r\n",
    "import numpy as np      "
   ],
   "outputs": [],
   "metadata": {}
  },
  {
   "cell_type": "code",
   "execution_count": 23,
   "source": [
    "BLUE = \"#5a7d9a\"\r\n",
    "YELLOW = \"#fccf03\"\r\n",
    "GREY = \"#444444\""
   ],
   "outputs": [],
   "metadata": {}
  },
  {
   "cell_type": "code",
   "execution_count": 22,
   "source": [
    "ages_x = np.array([18, 19, 20, 21, 22, 23, 24, 25, 26, 27, 28, 29, 30, 31, 32, 33, 34, 35,\r\n",
    "          36, 37, 38, 39, 40, 41, 42, 43, 44, 45, 46, 47, 48, 49, 50, 51, 52, 53, 54, 55])\r\n",
    "\r\n",
    "# median developer salaries by age\r\n",
    "dev_y = np.array([17784, 16500, 18012, 20628, 25206, 30252, 34368, 38496, 42000, 46752, 49320, 53200, \r\n",
    "        56000, 62316, 64928, 67317, 68748, 73752, 77232, 78000, 78508, 79536, 82488, 88935, \r\n",
    "        90000, 90056, 95000, 90000, 91633, 91660, 98150, 98964, 100000, 98988, 100000, 108923, \r\n",
    "        105000, 103117])\r\n",
    "\r\n",
    "py_dev_y = np.array([20046, 17100, 20000, 24744, 30500, 37732, 41247, 45372, 48876, 53850, 57287, 63016, \r\n",
    "            65998, 70003, 70000, 71496, 75370, 83640, 84666, 84392, 78254, 85000, 87038, 91991, \r\n",
    "            100000, 94796, 97962, 93302, 99240, 102736, 112285, 100771, 104708, 108423, 101407, \r\n",
    "            112542, 122870, 120000])\r\n",
    "\r\n",
    "js_dev_y = np.array([16446, 16791, 18942, 21780, 25704, 29000, 34372, 37810, 43515, 46823, 49293, 53437, \r\n",
    "            56373, 62375, 66674, 68745, 68746, 74583, 79000, 78508, 79996, 80403, 83820, 88833, \r\n",
    "            91660, 87892, 96243, 90000, 99313, 91660, 102264, 100000, 100000, 91660, 99240, 108000, \r\n",
    "            105000, 104000])\r\n"
   ],
   "outputs": [],
   "metadata": {}
  },
  {
   "cell_type": "code",
   "execution_count": 28,
   "source": [
    "plt.close()\r\n",
    "plt.style.use(\"fivethirtyeight\")\r\n",
    "\r\n",
    "plt.title(\"Median Salary (USD) by Age\")\r\n",
    "plt.xlabel(\"Ages\")\r\n",
    "plt.ylabel(\"Median Salary (USD)\")\r\n",
    "\r\n",
    "# issue: multiple bar charts are overlapping.\r\n",
    "# Need to set an x offset so the bars are side by side\r\n",
    "x_indexes = np.arange(len(ages_x))\r\n",
    "width = 0.2\r\n",
    "\r\n",
    "plt.figure(figsize=(13, 4))  # edit size of chart \r\n",
    "\r\n",
    "plt.bar(x_indexes - width, py_dev_y, width=width, color=BLUE, label=\"Python\")\r\n",
    "plt.bar(x_indexes, js_dev_y, width=width, color=YELLOW, label=\"JavaSript\")\r\n",
    "plt.bar(x_indexes + width, dev_y, width=width, color=GREY, label=\"All Devs\")\r\n",
    "\r\n",
    "# change label of x axis to the correct labels \r\n",
    "plt.xticks(ticks=x_indexes, labels=ages_x)\r\n",
    "\r\n",
    "plt.legend()\r\n",
    "plt.grid(True)\r\n",
    "\r\n",
    "plt.tight_layout()\r\n",
    "plt.show()"
   ],
   "outputs": [
    {
     "output_type": "display_data",
     "data": {
      "application/vnd.jupyter.widget-view+json": {
       "version_major": 2,
       "version_minor": 0,
       "model_id": "be9672c99129494f83b8ae8b5e1a8fbe"
      },
      "text/plain": [
       "Canvas(toolbar=Toolbar(toolitems=[('Home', 'Reset original view', 'home', 'home'), ('Back', 'Back to previous …"
      ]
     },
     "metadata": {}
    }
   ],
   "metadata": {}
  }
 ],
 "metadata": {
  "orig_nbformat": 4,
  "language_info": {
   "name": "python",
   "version": "3.9.6",
   "mimetype": "text/x-python",
   "codemirror_mode": {
    "name": "ipython",
    "version": 3
   },
   "pygments_lexer": "ipython3",
   "nbconvert_exporter": "python",
   "file_extension": ".py"
  },
  "kernelspec": {
   "name": "python3",
   "display_name": "Python 3.9.6 64-bit ('venv': venv)"
  },
  "interpreter": {
   "hash": "10bb56018dfb7002895f873d2c51140764030ea9df51df08db65c436f8abe775"
  }
 },
 "nbformat": 4,
 "nbformat_minor": 2
}