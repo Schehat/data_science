{
 "cells": [
  {
   "cell_type": "code",
   "execution_count": 1,
   "source": [
    "%matplotlib widget\r\n",
    "from matplotlib import pyplot as plt\r\n",
    "import pandas as pd\r\n",
    "from collections import Counter"
   ],
   "outputs": [],
   "metadata": {}
  },
  {
   "cell_type": "code",
   "execution_count": 2,
   "source": [
    "data = pd.read_csv(r\"..\\language_data.csv\")\r\n",
    "ids = data[\"Responder_id\"]\r\n",
    "lang_responses = data[\"LanguagesWorkedWith\"]\r\n",
    "\r\n",
    "# elegant way to count the amount of items contained dicts or dataframes\r\n",
    "# language_counter will be sorted automatically by highest count\r\n",
    "language_counter = Counter()\r\n",
    "for response in lang_responses:\r\n",
    "    language_counter.update(response.split(\";\"))\r\n",
    "\r\n",
    "# limit by most popular languages\r\n",
    "languages = []\r\n",
    "popularity = []\r\n",
    "# most_common: returns a tuple of 15 most popular languages\r\n",
    "for item in language_counter.most_common(15):\r\n",
    "    languages.append(item[0])\r\n",
    "    popularity.append(item[1])"
   ],
   "outputs": [],
   "metadata": {}
  },
  {
   "cell_type": "code",
   "execution_count": 3,
   "source": [
    "plt.close()\r\n",
    "plt.style.use(\"fivethirtyeight\")\r\n",
    "\r\n",
    "# barh: horizontal bar\r\n",
    "# lists reversed to have the most popular language at the top\r\n",
    "languages.reverse()\r\n",
    "popularity.reverse()\r\n",
    "plt.barh(languages, popularity)\r\n",
    "\r\n",
    "plt.title(\"Most Popular Languages\")\r\n",
    "plt.xlabel(\"Number of People Who Use\")\r\n",
    "\r\n",
    "plt.tight_layout()\r\n",
    "\r\n",
    "plt.show()"
   ],
   "outputs": [
    {
     "output_type": "display_data",
     "data": {
      "application/vnd.jupyter.widget-view+json": {
       "version_major": 2,
       "version_minor": 0,
       "model_id": "8b0f03cba0c044b6bb85c7c1215a117e"
      },
      "text/plain": [
       "Canvas(toolbar=Toolbar(toolitems=[('Home', 'Reset original view', 'home', 'home'), ('Back', 'Back to previous …"
      ]
     },
     "metadata": {}
    }
   ],
   "metadata": {}
  }
 ],
 "metadata": {
  "orig_nbformat": 4,
  "language_info": {
   "name": "python",
   "version": "3.9.6",
   "mimetype": "text/x-python",
   "codemirror_mode": {
    "name": "ipython",
    "version": 3
   },
   "pygments_lexer": "ipython3",
   "nbconvert_exporter": "python",
   "file_extension": ".py"
  },
  "kernelspec": {
   "name": "python3",
   "display_name": "Python 3.9.6 64-bit ('venv': venv)"
  },
  "interpreter": {
   "hash": "10bb56018dfb7002895f873d2c51140764030ea9df51df08db65c436f8abe775"
  }
 },
 "nbformat": 4,
 "nbformat_minor": 2
}