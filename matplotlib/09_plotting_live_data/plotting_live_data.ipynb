{
 "cells": [
  {
   "cell_type": "code",
   "execution_count": 5,
   "source": [
    "%matplotlib widget\r\n",
    "from matplotlib import pyplot as plt\r\n",
    "import pandas as pd\r\n",
    "from matplotlib.animation import FuncAnimation"
   ],
   "outputs": [],
   "metadata": {}
  },
  {
   "cell_type": "code",
   "execution_count": null,
   "source": [
    "plt.close()\r\n",
    "plt.style.use(\"fivethirtyeight\")\r\n",
    "\r\n",
    "# functions needs to have one parameter, additional positional parameters passing as *fargs   \r\n",
    "def animate(frame):\r\n",
    "    data = pd.read_csv(\"data.csv\")\r\n",
    "    x = data[\"x_value\"]\r\n",
    "    y1 = data[\"total_1\"]\r\n",
    "    y2 = data[\"total_2\"]\r\n",
    "\r\n",
    "    # clear current axis otherwise plt will draw a new line everytime\r\n",
    "    # stacked on top of the other lines and changes color everytime\r\n",
    "    plt.cla()\r\n",
    "\r\n",
    "    plt.plot(x, y1, label=\"Channel 1\")\r\n",
    "    plt.plot(x, y2, label=\"Channel 2\")\r\n",
    "\r\n",
    "    # plt.cla() also clears legend thus need to draw legend everytime.\r\n",
    "    # Legend tries to pick best location by default thus specifying position\r\n",
    "    # otherwise would change position everytime due to data is being updated\r\n",
    "    plt.legend(loc=\"upper left\")\r\n",
    "    plt.tight_layout()\r\n",
    "\r\n",
    "\r\n",
    "# 1: which figure, function, interval in ms\r\n",
    "ani = FuncAnimation(plt.gcf(), animate, interval=1000)\r\n",
    "\r\n",
    "plt.show()\r\n"
   ],
   "outputs": [],
   "metadata": {}
  }
 ],
 "metadata": {
  "orig_nbformat": 4,
  "language_info": {
   "name": "python",
   "version": "3.9.6",
   "mimetype": "text/x-python",
   "codemirror_mode": {
    "name": "ipython",
    "version": 3
   },
   "pygments_lexer": "ipython3",
   "nbconvert_exporter": "python",
   "file_extension": ".py"
  },
  "kernelspec": {
   "name": "python3",
   "display_name": "Python 3.9.6 64-bit ('venv': venv)"
  },
  "interpreter": {
   "hash": "10bb56018dfb7002895f873d2c51140764030ea9df51df08db65c436f8abe775"
  }
 },
 "nbformat": 4,
 "nbformat_minor": 2
}