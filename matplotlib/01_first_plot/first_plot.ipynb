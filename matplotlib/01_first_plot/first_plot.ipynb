{
 "cells": [
  {
   "cell_type": "code",
   "execution_count": 5,
   "source": [
    "%matplotlib widget\r\n",
    "from matplotlib import pyplot as plt\r\n",
    "import numpy as np      "
   ],
   "outputs": [],
   "metadata": {}
  },
  {
   "cell_type": "code",
   "execution_count": 7,
   "source": [
    "BLUE = \"#5a7d9a\"\r\n",
    "YELLOW = \"#fccf03\"\r\n",
    "GREY = \"#444444\""
   ],
   "outputs": [],
   "metadata": {}
  },
  {
   "cell_type": "code",
   "execution_count": 6,
   "source": [
    "ages_x = np.array([18, 19, 20, 21, 22, 23, 24, 25, 26, 27, 28, 29, 30, 31, 32, 33, 34, 35,\r\n",
    "          36, 37, 38, 39, 40, 41, 42, 43, 44, 45, 46, 47, 48, 49, 50, 51, 52, 53, 54, 55])\r\n",
    "\r\n",
    "# median developer salaries by age\r\n",
    "dev_y = np.array([17784, 16500, 18012, 20628, 25206, 30252, 34368, 38496, 42000, 46752, 49320, 53200, \r\n",
    "        56000, 62316, 64928, 67317, 68748, 73752, 77232, 78000, 78508, 79536, 82488, 88935, \r\n",
    "        90000, 90056, 95000, 90000, 91633, 91660, 98150, 98964, 100000, 98988, 100000, 108923, \r\n",
    "        105000, 103117])\r\n",
    "\r\n",
    "py_dev_y = np.array([20046, 17100, 20000, 24744, 30500, 37732, 41247, 45372, 48876, 53850, 57287, 63016, \r\n",
    "            65998, 70003, 70000, 71496, 75370, 83640, 84666, 84392, 78254, 85000, 87038, 91991, \r\n",
    "            100000, 94796, 97962, 93302, 99240, 102736, 112285, 100771, 104708, 108423, 101407, \r\n",
    "            112542, 122870, 120000])\r\n",
    "\r\n",
    "js_dev_y = np.array([16446, 16791, 18942, 21780, 25704, 29000, 34372, 37810, 43515, 46823, 49293, 53437, \r\n",
    "            56373, 62375, 66674, 68745, 68746, 74583, 79000, 78508, 79996, 80403, 83820, 88833, \r\n",
    "            91660, 87892, 96243, 90000, 99313, 91660, 102264, 100000, 100000, 91660, 99240, 108000, \r\n",
    "            105000, 104000])\r\n"
   ],
   "outputs": [],
   "metadata": {}
  },
  {
   "cell_type": "code",
   "execution_count": 9,
   "source": [
    "# matplotlib does not close plots automatically after rerunning this cell.\r\n",
    "# At the top of the chart the figure number tells how many are/were currently open.\r\n",
    "# This line will close all previously created plots. Rerun whole Notebook would also do the trick\r\n",
    "plt.close()\r\n",
    "\r\n",
    "plt.style.use(\"fivethirtyeight\")  # built-in custom style\r\n",
    "\r\n",
    "plt.title(\"Median Salary (USD) by Age\")\r\n",
    "plt.xlabel(\"Ages\")\r\n",
    "plt.ylabel(\"Median Salary (USD)\")\r\n",
    "\r\n",
    "# label: to show legend. This is necessary when plotting multiple graphs\r\n",
    "# marker: highlights the datapoint\r\n",
    "# color: can use hex, rgb values or short symbols e.g. \"b\" for blue or \"k\" for black\r\n",
    "# linewidth: default=1\r\n",
    "plt.plot(ages_x, py_dev_y, color=BLUE, marker=\".\", linewidth=2, label=\"Python\")\r\n",
    "plt.plot(ages_x, js_dev_y, color=YELLOW, marker=\".\", linewidth=2, label=\"JavaSript\")\r\n",
    "# moving this plot on the bottom due to plots are rendered one at a time and  can be\r\n",
    "#covered by other plots. This plot should stay thin & dotted so better draw at the end\r\n",
    "plt.plot(ages_x, dev_y, color=GREY, linestyle=\"--\", marker=\".\", label=\"All Devs\")\r\n",
    "\r\n",
    "plt.legend()\r\n",
    "plt.grid(True)  # adds grid\r\n",
    "\r\n",
    "plt.tight_layout()  # adjusts padding\r\n",
    "plt.show()\r\n",
    "\r\n",
    "plt.savefig(\"first_plot.png\")"
   ],
   "outputs": [
    {
     "output_type": "display_data",
     "data": {
      "application/vnd.jupyter.widget-view+json": {
       "version_major": 2,
       "version_minor": 0,
       "model_id": "15b4dc912c794e9b99180e48332f6010"
      },
      "text/plain": [
       "Canvas(toolbar=Toolbar(toolitems=[('Home', 'Reset original view', 'home', 'home'), ('Back', 'Back to previous …"
      ]
     },
     "metadata": {}
    }
   ],
   "metadata": {}
  }
 ],
 "metadata": {
  "orig_nbformat": 4,
  "language_info": {
   "name": "python",
   "version": "3.9.6",
   "mimetype": "text/x-python",
   "codemirror_mode": {
    "name": "ipython",
    "version": 3
   },
   "pygments_lexer": "ipython3",
   "nbconvert_exporter": "python",
   "file_extension": ".py"
  },
  "kernelspec": {
   "name": "python3",
   "display_name": "Python 3.9.6 64-bit ('venv': venv)"
  },
  "interpreter": {
   "hash": "10bb56018dfb7002895f873d2c51140764030ea9df51df08db65c436f8abe775"
  }
 },
 "nbformat": 4,
 "nbformat_minor": 2
}