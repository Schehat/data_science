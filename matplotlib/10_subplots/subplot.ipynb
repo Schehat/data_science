{
 "cells": [
  {
   "cell_type": "code",
   "execution_count": 17,
   "source": [
    "%matplotlib widget\r\n",
    "from matplotlib import pyplot as plt\r\n",
    "import pandas as pd"
   ],
   "outputs": [],
   "metadata": {}
  },
  {
   "cell_type": "code",
   "execution_count": 18,
   "source": [
    "GRAY = \"#444444\""
   ],
   "outputs": [],
   "metadata": {}
  },
  {
   "cell_type": "code",
   "execution_count": 19,
   "source": [
    "data = pd.read_csv(r\"..\\salary_data.csv\")\r\n",
    "ages = data[\"Age\"]\r\n",
    "dev_salaries = data[\"All_Devs\"]\r\n",
    "py_salaries = data[\"Python\"]\r\n",
    "js_salaries = data[\"JavaScript\"]"
   ],
   "outputs": [],
   "metadata": {}
  },
  {
   "cell_type": "code",
   "execution_count": 26,
   "source": [
    "plt.close()\r\n",
    "plt.style.use(\"seaborn\")\r\n",
    "\r\n",
    "# fig: window, ax: axis plots of the data\r\n",
    "# default ncols & nrows = 1\r\n",
    "# figsize can be set manually with fig.set_figheight and fig.set_figwidth\r\n",
    "fig, (ax1, ax2) = plt.subplots(nrows=2, figsize=(6, 4), sharex=True)\r\n",
    "\r\n",
    "# replace plt with axis\r\n",
    "ax1.plot(ages, dev_salaries, color=GRAY,\r\n",
    "         linestyle=\"--\", label=\"All Devs\")\r\n",
    "\r\n",
    "ax2.plot(ages, py_salaries, label=\"Python\")\r\n",
    "ax2.plot(ages, js_salaries, label=\"JavaScript\")\r\n",
    "\r\n",
    "ax1.legend()\r\n",
    "ax1.set_title(\"Median Salary (USD) by Age\")\r\n",
    "ax1.set_ylabel(\"Median Salary (USD)\")\r\n",
    "\r\n",
    "ax2.legend()\r\n",
    "ax2.set_xlabel(\"Ages\")\r\n",
    "ax2.set_ylabel(\"Median Salary (USD)\")\r\n",
    "\r\n",
    "# they belong to the plt object\r\n",
    "plt.tight_layout()\r\n",
    "plt.show()"
   ],
   "outputs": [
    {
     "output_type": "display_data",
     "data": {
      "application/vnd.jupyter.widget-view+json": {
       "version_major": 2,
       "version_minor": 0,
       "model_id": "006bef66931e4d14b565c6780ec10127"
      },
      "text/plain": [
       "Canvas(toolbar=Toolbar(toolitems=[('Home', 'Reset original view', 'home', 'home'), ('Back', 'Back to previous …"
      ]
     },
     "metadata": {}
    }
   ],
   "metadata": {}
  }
 ],
 "metadata": {
  "orig_nbformat": 4,
  "language_info": {
   "name": "python",
   "version": "3.9.6",
   "mimetype": "text/x-python",
   "codemirror_mode": {
    "name": "ipython",
    "version": 3
   },
   "pygments_lexer": "ipython3",
   "nbconvert_exporter": "python",
   "file_extension": ".py"
  },
  "kernelspec": {
   "name": "python3",
   "display_name": "Python 3.9.6 64-bit ('venv': venv)"
  },
  "interpreter": {
   "hash": "10bb56018dfb7002895f873d2c51140764030ea9df51df08db65c436f8abe775"
  }
 },
 "nbformat": 4,
 "nbformat_minor": 2
}