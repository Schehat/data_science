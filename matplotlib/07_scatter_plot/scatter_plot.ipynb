{
 "cells": [
  {
   "cell_type": "code",
   "execution_count": 1,
   "source": [
    "%matplotlib widget\r\n",
    "from matplotlib import pyplot as plt\r\n",
    "import pandas as pd"
   ],
   "outputs": [],
   "metadata": {}
  },
  {
   "cell_type": "code",
   "execution_count": 3,
   "source": [
    "GREEN = \"#0fd115\"\r\n",
    "BLACK = \"#000000\""
   ],
   "outputs": [],
   "metadata": {}
  },
  {
   "cell_type": "code",
   "execution_count": 2,
   "source": [
    "data = pd.read_csv(r\"..\\\\view_likes_data.csv\")\r\n",
    "view_count = data[\"view_count\"]\r\n",
    "likes = data[\"likes\"]\r\n",
    "colors = data[\"ratio\"]"
   ],
   "outputs": [],
   "metadata": {}
  },
  {
   "cell_type": "code",
   "execution_count": 4,
   "source": [
    "plt.close()\r\n",
    "plt.style.use('seaborn')\r\n",
    "plt.figure(figsize=(6, 4))\r\n",
    "plt.title('Trending YouTube Videos')\r\n",
    "plt.xlabel('View Count')\r\n",
    "plt.ylabel('Total Likes')\r\n",
    "\r\n",
    "# s: size of dots - pass one value or a list corresponding to each dot\r\n",
    "# c: color of dots - pass one color for every dot or a list corresponding to each dot\r\n",
    "# passing intensity like a scale in list possible e.g. from 0 - 10. Then grey scaling or use cmap in addition \r\n",
    "# c: needed when passing a list in c. A function which adjusts which color to show\r\n",
    "plt.scatter(view_count, likes, s=50, c=colors, cmap=\"Greens\", edgecolors=BLACK, linewidths=1, alpha=0.75)\r\n",
    " \r\n",
    "# because of outliers \r\n",
    "plt.xscale('log')\r\n",
    "plt.yscale('log')\r\n",
    "\r\n",
    "# add colorbar\r\n",
    "cbar = plt.colorbar()\r\n",
    "cbar.set_label(\"Like/Dislike Ration\")\r\n",
    "\r\n",
    "plt.tight_layout()\r\n",
    "\r\n",
    "plt.show()"
   ],
   "outputs": [
    {
     "output_type": "display_data",
     "data": {
      "application/vnd.jupyter.widget-view+json": {
       "version_major": 2,
       "version_minor": 0,
       "model_id": "7e88698e45154d38ba18d33ae1ded7d5"
      },
      "text/plain": [
       "Canvas(toolbar=Toolbar(toolitems=[('Home', 'Reset original view', 'home', 'home'), ('Back', 'Back to previous …"
      ]
     },
     "metadata": {}
    }
   ],
   "metadata": {}
  }
 ],
 "metadata": {
  "orig_nbformat": 4,
  "language_info": {
   "name": "python",
   "version": "3.9.6",
   "mimetype": "text/x-python",
   "codemirror_mode": {
    "name": "ipython",
    "version": 3
   },
   "pygments_lexer": "ipython3",
   "nbconvert_exporter": "python",
   "file_extension": ".py"
  },
  "kernelspec": {
   "name": "python3",
   "display_name": "Python 3.9.6 64-bit ('venv': venv)"
  },
  "interpreter": {
   "hash": "10bb56018dfb7002895f873d2c51140764030ea9df51df08db65c436f8abe775"
  }
 },
 "nbformat": 4,
 "nbformat_minor": 2
}