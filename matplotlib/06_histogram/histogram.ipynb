{
 "cells": [
  {
   "cell_type": "code",
   "execution_count": 1,
   "source": [
    "%matplotlib widget\r\n",
    "from matplotlib import pyplot as plt\r\n",
    "import pandas as pd\r\n",
    "import numpy as np"
   ],
   "outputs": [],
   "metadata": {}
  },
  {
   "cell_type": "code",
   "execution_count": 3,
   "source": [
    "BLACK = \"#000000\"\r\n",
    "RED = \"#de3e0d\""
   ],
   "outputs": [],
   "metadata": {}
  },
  {
   "cell_type": "code",
   "execution_count": 2,
   "source": [
    "data = pd.read_csv(r\"..\\\\ages_data.csv\")\r\n",
    "ids = data[\"Responder_id\"]\r\n",
    "ages = data[\"Age\"]\r\n",
    "median_age = np.median(ages)"
   ],
   "outputs": [],
   "metadata": {}
  },
  {
   "cell_type": "code",
   "execution_count": 4,
   "source": [
    "plt.close()\r\n",
    "plt.style.use(\"fivethirtyeight\")\r\n",
    "plt.figure(figsize=(6, 3))\r\n",
    "\r\n",
    "# bins: set number of bins or pass list with borders of bins\r\n",
    "bins = [10, 20, 30, 40, 50, 60, 70, 80, 90, 100]\r\n",
    "plt.hist(ages, bins=bins, edgecolor=BLACK)\r\n",
    "\r\n",
    "plt.axvline(median_age, color=RED, label=\"Median Age\", linewidth=2)\r\n",
    "\r\n",
    "plt.legend()\r\n",
    "\r\n",
    "plt.title(\"Ages of Respondents\")\r\n",
    "plt.xlabel(\"Ages\")\r\n",
    "plt.ylabel(\"Total Respondents\")\r\n",
    "\r\n",
    "plt.tight_layout()\r\n",
    "\r\n",
    "plt.show()"
   ],
   "outputs": [
    {
     "output_type": "display_data",
     "data": {
      "application/vnd.jupyter.widget-view+json": {
       "version_major": 2,
       "version_minor": 0,
       "model_id": "55c05dd4eb154319b4dcef42f7c6961a"
      },
      "text/plain": [
       "Canvas(toolbar=Toolbar(toolitems=[('Home', 'Reset original view', 'home', 'home'), ('Back', 'Back to previous …"
      ]
     },
     "metadata": {}
    }
   ],
   "metadata": {}
  }
 ],
 "metadata": {
  "orig_nbformat": 4,
  "language_info": {
   "name": "python",
   "version": "3.9.6",
   "mimetype": "text/x-python",
   "codemirror_mode": {
    "name": "ipython",
    "version": 3
   },
   "pygments_lexer": "ipython3",
   "nbconvert_exporter": "python",
   "file_extension": ".py"
  },
  "kernelspec": {
   "name": "python3",
   "display_name": "Python 3.9.6 64-bit ('venv': venv)"
  },
  "interpreter": {
   "hash": "10bb56018dfb7002895f873d2c51140764030ea9df51df08db65c436f8abe775"
  }
 },
 "nbformat": 4,
 "nbformat_minor": 2
}