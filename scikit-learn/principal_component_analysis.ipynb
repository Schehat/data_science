{
 "cells": [
  {
   "cell_type": "code",
   "execution_count": 10,
   "source": [
    "import pandas as pd\r\n",
    "import numpy as np\r\n",
    "import random as rd\r\n",
    "from sklearn.decomposition import PCA\r\n",
    "from sklearn import preprocessing\r\n",
    "%matplotlib inline\r\n",
    "import matplotlib.pyplot as plt"
   ],
   "outputs": [],
   "metadata": {}
  },
  {
   "cell_type": "markdown",
   "source": [
    "## generate data"
   ],
   "metadata": {}
  },
  {
   "cell_type": "code",
   "execution_count": 3,
   "source": [
    "genes = [\"gene\" + str(i) for i in range(1, 101)]\r\n",
    "\r\n",
    "wt = [\"wt\" + str(i) for i in range(1, 6)]\r\n",
    "ko = [\"ko\" + str(i) for i in range(1, 6)]\r\n",
    "\r\n",
    "data = pd.DataFrame(columns=[*wt, *ko], index=genes)\r\n",
    "\r\n",
    "for gene in data.index:\r\n",
    "    data.loc[gene, 'wt1':'wt5'] = np.random.poisson(lam=rd.randrange(10, 1000), size=5)\r\n",
    "    data.loc[gene, 'ko1':'ko5'] = np.random.poisson(lam=rd.randrange(10, 1000), size=5)"
   ],
   "outputs": [],
   "metadata": {}
  },
  {
   "cell_type": "code",
   "execution_count": 4,
   "source": [
    "data.head()"
   ],
   "outputs": [
    {
     "output_type": "execute_result",
     "data": {
      "text/html": [
       "<div>\n",
       "<style scoped>\n",
       "    .dataframe tbody tr th:only-of-type {\n",
       "        vertical-align: middle;\n",
       "    }\n",
       "\n",
       "    .dataframe tbody tr th {\n",
       "        vertical-align: top;\n",
       "    }\n",
       "\n",
       "    .dataframe thead th {\n",
       "        text-align: right;\n",
       "    }\n",
       "</style>\n",
       "<table border=\"1\" class=\"dataframe\">\n",
       "  <thead>\n",
       "    <tr style=\"text-align: right;\">\n",
       "      <th></th>\n",
       "      <th>wt1</th>\n",
       "      <th>wt2</th>\n",
       "      <th>wt3</th>\n",
       "      <th>wt4</th>\n",
       "      <th>wt5</th>\n",
       "      <th>ko1</th>\n",
       "      <th>ko2</th>\n",
       "      <th>ko3</th>\n",
       "      <th>ko4</th>\n",
       "      <th>ko5</th>\n",
       "    </tr>\n",
       "  </thead>\n",
       "  <tbody>\n",
       "    <tr>\n",
       "      <th>gene1</th>\n",
       "      <td>658</td>\n",
       "      <td>621</td>\n",
       "      <td>638</td>\n",
       "      <td>632</td>\n",
       "      <td>636</td>\n",
       "      <td>260</td>\n",
       "      <td>292</td>\n",
       "      <td>307</td>\n",
       "      <td>256</td>\n",
       "      <td>294</td>\n",
       "    </tr>\n",
       "    <tr>\n",
       "      <th>gene2</th>\n",
       "      <td>230</td>\n",
       "      <td>243</td>\n",
       "      <td>226</td>\n",
       "      <td>202</td>\n",
       "      <td>217</td>\n",
       "      <td>603</td>\n",
       "      <td>663</td>\n",
       "      <td>692</td>\n",
       "      <td>675</td>\n",
       "      <td>682</td>\n",
       "    </tr>\n",
       "    <tr>\n",
       "      <th>gene3</th>\n",
       "      <td>616</td>\n",
       "      <td>595</td>\n",
       "      <td>635</td>\n",
       "      <td>578</td>\n",
       "      <td>616</td>\n",
       "      <td>849</td>\n",
       "      <td>916</td>\n",
       "      <td>893</td>\n",
       "      <td>929</td>\n",
       "      <td>868</td>\n",
       "    </tr>\n",
       "    <tr>\n",
       "      <th>gene4</th>\n",
       "      <td>413</td>\n",
       "      <td>385</td>\n",
       "      <td>438</td>\n",
       "      <td>423</td>\n",
       "      <td>435</td>\n",
       "      <td>655</td>\n",
       "      <td>590</td>\n",
       "      <td>640</td>\n",
       "      <td>603</td>\n",
       "      <td>590</td>\n",
       "    </tr>\n",
       "    <tr>\n",
       "      <th>gene5</th>\n",
       "      <td>336</td>\n",
       "      <td>356</td>\n",
       "      <td>345</td>\n",
       "      <td>326</td>\n",
       "      <td>336</td>\n",
       "      <td>358</td>\n",
       "      <td>363</td>\n",
       "      <td>369</td>\n",
       "      <td>380</td>\n",
       "      <td>377</td>\n",
       "    </tr>\n",
       "  </tbody>\n",
       "</table>\n",
       "</div>"
      ],
      "text/plain": [
       "       wt1  wt2  wt3  wt4  wt5  ko1  ko2  ko3  ko4  ko5\n",
       "gene1  658  621  638  632  636  260  292  307  256  294\n",
       "gene2  230  243  226  202  217  603  663  692  675  682\n",
       "gene3  616  595  635  578  616  849  916  893  929  868\n",
       "gene4  413  385  438  423  435  655  590  640  603  590\n",
       "gene5  336  356  345  326  336  358  363  369  380  377"
      ]
     },
     "metadata": {},
     "execution_count": 4
    }
   ],
   "metadata": {}
  },
  {
   "cell_type": "code",
   "execution_count": 5,
   "source": [
    "data.shape"
   ],
   "outputs": [
    {
     "output_type": "execute_result",
     "data": {
      "text/plain": [
       "(100, 10)"
      ]
     },
     "metadata": {},
     "execution_count": 5
    }
   ],
   "metadata": {}
  },
  {
   "cell_type": "markdown",
   "source": [
    "## scaling and centering data"
   ],
   "metadata": {}
  },
  {
   "cell_type": "code",
   "execution_count": 6,
   "source": [
    "# data.T tranposes the data. Necessary due to sklearn expects samples in rows\r\n",
    "# but here the samples are in columns\r\n",
    "scaled_data = preprocessing.StandardScaler().fit_transform(data.T)"
   ],
   "outputs": [],
   "metadata": {}
  },
  {
   "cell_type": "markdown",
   "source": [
    "## create pca object"
   ],
   "metadata": {}
  },
  {
   "cell_type": "code",
   "execution_count": 7,
   "source": [
    "pca = PCA()\r\n",
    "pca.fit(scaled_data)  # here the math happens\r\n",
    "pca_data = pca.transform(scaled_data)  # generate coordinates for pca graph"
   ],
   "outputs": [],
   "metadata": {}
  },
  {
   "cell_type": "markdown",
   "source": [
    "## draw scree plot"
   ],
   "metadata": {}
  },
  {
   "cell_type": "code",
   "execution_count": 11,
   "source": [
    "# calculate percantage of variation each pc accounts for\r\n",
    "per_var = np.round(pca.explained_variance_ratio_ * 100, decimals=1)\r\n",
    "\r\n",
    "labels = ['PC' + str(x) for x in range(1, len(per_var) + 1)]\r\n",
    "\r\n",
    "plt.bar(x=range(1, len(per_var) + 1), height=per_var, tick_label=labels)\r\n",
    "plt.ylabel('Percentage of Explained Variance')\r\n",
    "plt.xlabel('Principal Components')\r\n",
    "plt.title('Scree Plot')\r\n",
    "plt.show()"
   ],
   "outputs": [
    {
     "output_type": "display_data",
     "data": {
      "image/png": "[encoded data removed]",
      "text/plain": [
       "<Figure size 432x288 with 1 Axes>"
      ]
     },
     "metadata": {
      "needs_background": "light"
     }
    }
   ],
   "metadata": {}
  },
  {
   "cell_type": "markdown",
   "source": [
    "## draw pca plot"
   ],
   "metadata": {}
  },
  {
   "cell_type": "code",
   "execution_count": 12,
   "source": [
    "pca_df = pd.DataFrame(pca_data, index=[*wt, *ko], columns=labels)\r\n",
    "\r\n",
    "plt.scatter(pca_df.PC1, pca_df.PC2)\r\n",
    "plt.title('My PCA Graph')\r\n",
    "plt.xlabel(f'PCA1 - {per_var[0]}')\r\n",
    "plt.ylabel(f'PCA2 - {per_var[1]}')\r\n",
    "\r\n",
    "# adds sample names for thr graph\r\n",
    "for sample in pca_df.index:\r\n",
    "    plt.annotate(sample, (pca_df.PC1.loc[sample], pca_df.PC2.loc[sample]))\r\n",
    "\r\n",
    "plt.show()"
   ],
   "outputs": [
    {
     "output_type": "display_data",
     "data": {
      "image/png": "[encoded data removed]",
      "text/plain": [
       "<Figure size 432x288 with 1 Axes>"
      ]
     },
     "metadata": {
      "needs_background": "light"
     }
    }
   ],
   "metadata": {}
  },
  {
   "cell_type": "markdown",
   "source": [
    "## examine loading scores"
   ],
   "metadata": {}
  },
  {
   "cell_type": "code",
   "execution_count": 13,
   "source": [
    "# pc's are 0 indexed, so pc1=0 \r\n",
    "loading_scores = pd.Series(pca.components_[0], index=genes)\r\n",
    "\r\n",
    "sorted_loading_scores = loading_scores.abs().sort_values(ascending=False)\r\n",
    "\r\n",
    "top_10_genes = sorted_loading_scores[0:10].index.values\r\n",
    "\r\n",
    "loading_scores[top_10_genes]"
   ],
   "outputs": [
    {
     "output_type": "execute_result",
     "data": {
      "text/plain": [
       "gene14   -0.104909\n",
       "gene8    -0.104906\n",
       "gene60    0.104883\n",
       "gene16   -0.104879\n",
       "gene70    0.104845\n",
       "gene46   -0.104840\n",
       "gene28   -0.104840\n",
       "gene87    0.104831\n",
       "gene34    0.104820\n",
       "gene36   -0.104817\n",
       "dtype: float64"
      ]
     },
     "metadata": {},
     "execution_count": 13
    }
   ],
   "metadata": {}
  }
 ],
 "metadata": {
  "orig_nbformat": 4,
  "language_info": {
   "name": "python",
   "version": "3.9.6",
   "mimetype": "text/x-python",
   "codemirror_mode": {
    "name": "ipython",
    "version": 3
   },
   "pygments_lexer": "ipython3",
   "nbconvert_exporter": "python",
   "file_extension": ".py"
  },
  "kernelspec": {
   "name": "python3",
   "display_name": "Python 3.9.6 64-bit ('venv': venv)"
  },
  "interpreter": {
   "hash": "10bb56018dfb7002895f873d2c51140764030ea9df51df08db65c436f8abe775"
  }
 },
 "nbformat": 4,
 "nbformat_minor": 2
}