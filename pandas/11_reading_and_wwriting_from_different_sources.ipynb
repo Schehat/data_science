{
 "cells": [
  {
   "cell_type": "code",
   "execution_count": 2,
   "source": [
    "import pandas as pd"
   ],
   "outputs": [],
   "metadata": {}
  },
  {
   "cell_type": "markdown",
   "source": [
    "## csv"
   ],
   "metadata": {}
  },
  {
   "cell_type": "code",
   "execution_count": null,
   "source": [
    "# reading\r\n",
    "df = pd.read_csv(\"survey_results_public.csv\", index_col=\"Respondent\")\r\n",
    "# export\r\n",
    "df.to_csv(\"survey_results_public.csv\")"
   ],
   "outputs": [],
   "metadata": {}
  },
  {
   "cell_type": "markdown",
   "source": [
    "## tsv"
   ],
   "metadata": {}
  },
  {
   "cell_type": "code",
   "execution_count": null,
   "source": [
    "# reading\r\n",
    "df = pd.read_csv(\"survey_results_public.csv\", index_col=\"Respondent\", sep=\"\\t\")\r\n",
    "# export\r\n",
    "df.to_csv(\"survey_results_public.tsv\", sep=\"\\t\")"
   ],
   "outputs": [],
   "metadata": {}
  },
  {
   "cell_type": "markdown",
   "source": [
    "## excel\r\n",
    "* ### pip install xlwt openpyxl xlrd"
   ],
   "metadata": {}
  },
  {
   "cell_type": "code",
   "execution_count": null,
   "source": [
    "# read\r\n",
    "df = pd.read_excel(\"survey_results_public.xlsx\", index_col=\"Respondent\")\r\n",
    "# export, specify sheet & more possible\r\n",
    "df.to_excel(\"survey_results_public.xlsx\")"
   ],
   "outputs": [],
   "metadata": {}
  },
  {
   "cell_type": "markdown",
   "source": [
    "## json"
   ],
   "metadata": {}
  },
  {
   "cell_type": "code",
   "execution_count": null,
   "source": [
    "# reading: same arguments needed like same orient & lines values etc.\r\n",
    "# index_col as argument not possible\r\n",
    "df = pd.read_json(\"survey_results_public.json\", orient=\"records\", lines=True)"
   ],
   "outputs": [],
   "metadata": {}
  },
  {
   "cell_type": "code",
   "execution_count": null,
   "source": [
    "# export\r\n",
    "# default is dictionary-like\r\n",
    "df.to_json(\"survey_results_public.json\") \r\n",
    "\r\n",
    "# orient=\"records\": is list like\r\n",
    "# lines=True creates new line to be easier to read\r\n",
    "df.to_json(\"survey_results_public.json\", orient=\"records\", lines=True)"
   ],
   "outputs": [],
   "metadata": {}
  },
  {
   "cell_type": "markdown",
   "source": [
    "## sql\r\n",
    "* ### from sqlalchemy import create_engine\r\n",
    "* ### depending on database more imports are required "
   ],
   "metadata": {}
  },
  {
   "cell_type": "code",
   "execution_count": null,
   "source": [
    "# the engine creates a connection to the database\r\n",
    "\"\"\"\r\n",
    "engine = create_engine(<connection string>)\r\n",
    "\"\"\"\r\n",
    "# export\r\n",
    "\"\"\"\r\n",
    "# sample_table doesent need to exist, by default a new one will be created\r\n",
    "df.to_sql(\"sample_table\", engine)\r\n",
    "# but if sample_table already exists then additional argument needed. Many values possible\r\n",
    "df.to_sql(\"sample_table\", engine, if_exists=\"replace\")\r\n",
    "\"\"\"\r\n",
    "# read\r\n",
    "\"\"\"\r\n",
    "df = pd.read_sql(\"sample_table\", engine, index_col=\"Respondent\")\r\n",
    "\"\"\"\r\n",
    "# load sql query\r\n",
    "\"\"\"\r\n",
    "df = pd.read_sql_query(\"<query>\", engine, index_col=\"Respondent\")\r\n",
    "\"\"\""
   ],
   "outputs": [],
   "metadata": {}
  },
  {
   "cell_type": "markdown",
   "source": [
    "## url"
   ],
   "metadata": {}
  },
  {
   "cell_type": "code",
   "execution_count": null,
   "source": [
    "# read depends on what data format is in the url if url has a json file then use read_json\r\n",
    "# df = pd.read_json(<url>)\r\n"
   ],
   "outputs": [],
   "metadata": {}
  }
 ],
 "metadata": {
  "orig_nbformat": 4,
  "language_info": {
   "name": "python",
   "version": "3.9.6",
   "mimetype": "text/x-python",
   "codemirror_mode": {
    "name": "ipython",
    "version": 3
   },
   "pygments_lexer": "ipython3",
   "nbconvert_exporter": "python",
   "file_extension": ".py"
  },
  "kernelspec": {
   "name": "python3",
   "display_name": "Python 3.9.6 64-bit ('venv': venv)"
  },
  "interpreter": {
   "hash": "10bb56018dfb7002895f873d2c51140764030ea9df51df08db65c436f8abe775"
  }
 },
 "nbformat": 4,
 "nbformat_minor": 2
}