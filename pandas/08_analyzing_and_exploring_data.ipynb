{
 "cells": [
  {
   "cell_type": "code",
   "execution_count": 1,
   "source": [
    "import pandas as pd"
   ],
   "outputs": [],
   "metadata": {}
  },
  {
   "cell_type": "code",
   "execution_count": 2,
   "source": [
    "df = pd.read_csv(\"survey_results_public.csv\", index_col=\"Respondent\")\r\n",
    "schema_df = pd.read_csv(\"survey_results_schema.csv\", index_col=\"Column\")"
   ],
   "outputs": [],
   "metadata": {}
  },
  {
   "cell_type": "markdown",
   "source": [
    "## aggregation"
   ],
   "metadata": {}
  },
  {
   "cell_type": "markdown",
   "source": [
    "* ### median"
   ],
   "metadata": {}
  },
  {
   "cell_type": "code",
   "execution_count": 3,
   "source": [
    "df[\"ConvertedComp\"].median()"
   ],
   "outputs": [
    {
     "output_type": "execute_result",
     "data": {
      "text/plain": [
       "57287.0"
      ]
     },
     "metadata": {},
     "execution_count": 3
    }
   ],
   "metadata": {}
  },
  {
   "cell_type": "code",
   "execution_count": 4,
   "source": [
    "df.median(numeric_only=True)"
   ],
   "outputs": [
    {
     "output_type": "execute_result",
     "data": {
      "text/plain": [
       "CompTotal        62000.0\n",
       "ConvertedComp    57287.0\n",
       "WorkWeekHrs         40.0\n",
       "CodeRevHrs           4.0\n",
       "Age                 29.0\n",
       "dtype: float64"
      ]
     },
     "metadata": {},
     "execution_count": 4
    }
   ],
   "metadata": {}
  },
  {
   "cell_type": "markdown",
   "source": [
    "* ### describe"
   ],
   "metadata": {}
  },
  {
   "cell_type": "code",
   "execution_count": 5,
   "source": [
    "df.describe()  "
   ],
   "outputs": [
    {
     "output_type": "execute_result",
     "data": {
      "text/html": [
       "<div>\n",
       "<style scoped>\n",
       "    .dataframe tbody tr th:only-of-type {\n",
       "        vertical-align: middle;\n",
       "    }\n",
       "\n",
       "    .dataframe tbody tr th {\n",
       "        vertical-align: top;\n",
       "    }\n",
       "\n",
       "    .dataframe thead th {\n",
       "        text-align: right;\n",
       "    }\n",
       "</style>\n",
       "<table border=\"1\" class=\"dataframe\">\n",
       "  <thead>\n",
       "    <tr style=\"text-align: right;\">\n",
       "      <th></th>\n",
       "      <th>CompTotal</th>\n",
       "      <th>ConvertedComp</th>\n",
       "      <th>WorkWeekHrs</th>\n",
       "      <th>CodeRevHrs</th>\n",
       "      <th>Age</th>\n",
       "    </tr>\n",
       "  </thead>\n",
       "  <tbody>\n",
       "    <tr>\n",
       "      <th>count</th>\n",
       "      <td>5.594500e+04</td>\n",
       "      <td>5.582300e+04</td>\n",
       "      <td>64503.000000</td>\n",
       "      <td>49790.000000</td>\n",
       "      <td>79210.000000</td>\n",
       "    </tr>\n",
       "    <tr>\n",
       "      <th>mean</th>\n",
       "      <td>5.519014e+11</td>\n",
       "      <td>1.271107e+05</td>\n",
       "      <td>42.127197</td>\n",
       "      <td>5.084308</td>\n",
       "      <td>30.336699</td>\n",
       "    </tr>\n",
       "    <tr>\n",
       "      <th>std</th>\n",
       "      <td>7.331926e+13</td>\n",
       "      <td>2.841523e+05</td>\n",
       "      <td>37.287610</td>\n",
       "      <td>5.513931</td>\n",
       "      <td>9.178390</td>\n",
       "    </tr>\n",
       "    <tr>\n",
       "      <th>min</th>\n",
       "      <td>0.000000e+00</td>\n",
       "      <td>0.000000e+00</td>\n",
       "      <td>1.000000</td>\n",
       "      <td>0.000000</td>\n",
       "      <td>1.000000</td>\n",
       "    </tr>\n",
       "    <tr>\n",
       "      <th>25%</th>\n",
       "      <td>2.000000e+04</td>\n",
       "      <td>2.577750e+04</td>\n",
       "      <td>40.000000</td>\n",
       "      <td>2.000000</td>\n",
       "      <td>24.000000</td>\n",
       "    </tr>\n",
       "    <tr>\n",
       "      <th>50%</th>\n",
       "      <td>6.200000e+04</td>\n",
       "      <td>5.728700e+04</td>\n",
       "      <td>40.000000</td>\n",
       "      <td>4.000000</td>\n",
       "      <td>29.000000</td>\n",
       "    </tr>\n",
       "    <tr>\n",
       "      <th>75%</th>\n",
       "      <td>1.200000e+05</td>\n",
       "      <td>1.000000e+05</td>\n",
       "      <td>44.750000</td>\n",
       "      <td>6.000000</td>\n",
       "      <td>35.000000</td>\n",
       "    </tr>\n",
       "    <tr>\n",
       "      <th>max</th>\n",
       "      <td>1.000000e+16</td>\n",
       "      <td>2.000000e+06</td>\n",
       "      <td>4850.000000</td>\n",
       "      <td>99.000000</td>\n",
       "      <td>99.000000</td>\n",
       "    </tr>\n",
       "  </tbody>\n",
       "</table>\n",
       "</div>"
      ],
      "text/plain": [
       "          CompTotal  ConvertedComp   WorkWeekHrs    CodeRevHrs           Age\n",
       "count  5.594500e+04   5.582300e+04  64503.000000  49790.000000  79210.000000\n",
       "mean   5.519014e+11   1.271107e+05     42.127197      5.084308     30.336699\n",
       "std    7.331926e+13   2.841523e+05     37.287610      5.513931      9.178390\n",
       "min    0.000000e+00   0.000000e+00      1.000000      0.000000      1.000000\n",
       "25%    2.000000e+04   2.577750e+04     40.000000      2.000000     24.000000\n",
       "50%    6.200000e+04   5.728700e+04     40.000000      4.000000     29.000000\n",
       "75%    1.200000e+05   1.000000e+05     44.750000      6.000000     35.000000\n",
       "max    1.000000e+16   2.000000e+06   4850.000000     99.000000     99.000000"
      ]
     },
     "metadata": {},
     "execution_count": 5
    }
   ],
   "metadata": {}
  },
  {
   "cell_type": "markdown",
   "source": [
    "* ### value_counts"
   ],
   "metadata": {}
  },
  {
   "cell_type": "code",
   "execution_count": 6,
   "source": [
    "df[\"SocialMedia\"].value_counts()\r\n",
    "df[\"SocialMedia\"].value_counts(normalize=True)  # returns percentages"
   ],
   "outputs": [
    {
     "output_type": "execute_result",
     "data": {
      "text/plain": [
       "Reddit                      0.170233\n",
       "YouTube                     0.163791\n",
       "WhatsApp                    0.158071\n",
       "Facebook                    0.156069\n",
       "Twitter                     0.134988\n",
       "Instagram                   0.074150\n",
       "I don't use social media    0.065777\n",
       "LinkedIn                    0.053306\n",
       "WeChat 微信                   0.007899\n",
       "Snapchat                    0.007437\n",
       "VK ВКонта́кте               0.007141\n",
       "Weibo 新浪微博                  0.000663\n",
       "Youku Tudou 优酷              0.000249\n",
       "Hello                       0.000225\n",
       "Name: SocialMedia, dtype: float64"
      ]
     },
     "metadata": {},
     "execution_count": 6
    }
   ],
   "metadata": {}
  },
  {
   "cell_type": "markdown",
   "source": [
    "## grouping"
   ],
   "metadata": {}
  },
  {
   "cell_type": "markdown",
   "source": [
    "* ### groupby: more flexible than filters. Groupby are similar to SQL's group by \r\n",
    "* ### not being used to query for one group with no aggregation due to does not work"
   ],
   "metadata": {}
  },
  {
   "cell_type": "code",
   "execution_count": 7,
   "source": [
    "country_grp = df.groupby([\"Country\"])"
   ],
   "outputs": [],
   "metadata": {}
  },
  {
   "cell_type": "code",
   "execution_count": 8,
   "source": [
    "country_grp.get_group(\"United States\")\r\n",
    "\r\n",
    "# equivalent to\r\n",
    "# df.loc[df[\"Country\"] == \"United States\"]"
   ],
   "outputs": [
    {
     "output_type": "execute_result",
     "data": {
      "text/html": [
       "<div>\n",
       "<style scoped>\n",
       "    .dataframe tbody tr th:only-of-type {\n",
       "        vertical-align: middle;\n",
       "    }\n",
       "\n",
       "    .dataframe tbody tr th {\n",
       "        vertical-align: top;\n",
       "    }\n",
       "\n",
       "    .dataframe thead th {\n",
       "        text-align: right;\n",
       "    }\n",
       "</style>\n",
       "<table border=\"1\" class=\"dataframe\">\n",
       "  <thead>\n",
       "    <tr style=\"text-align: right;\">\n",
       "      <th></th>\n",
       "      <th>MainBranch</th>\n",
       "      <th>Hobbyist</th>\n",
       "      <th>OpenSourcer</th>\n",
       "      <th>OpenSource</th>\n",
       "      <th>Employment</th>\n",
       "      <th>Country</th>\n",
       "      <th>Student</th>\n",
       "      <th>EdLevel</th>\n",
       "      <th>UndergradMajor</th>\n",
       "      <th>EduOther</th>\n",
       "      <th>...</th>\n",
       "      <th>WelcomeChange</th>\n",
       "      <th>SONewContent</th>\n",
       "      <th>Age</th>\n",
       "      <th>Gender</th>\n",
       "      <th>Trans</th>\n",
       "      <th>Sexuality</th>\n",
       "      <th>Ethnicity</th>\n",
       "      <th>Dependents</th>\n",
       "      <th>SurveyLength</th>\n",
       "      <th>SurveyEase</th>\n",
       "    </tr>\n",
       "    <tr>\n",
       "      <th>Respondent</th>\n",
       "      <th></th>\n",
       "      <th></th>\n",
       "      <th></th>\n",
       "      <th></th>\n",
       "      <th></th>\n",
       "      <th></th>\n",
       "      <th></th>\n",
       "      <th></th>\n",
       "      <th></th>\n",
       "      <th></th>\n",
       "      <th></th>\n",
       "      <th></th>\n",
       "      <th></th>\n",
       "      <th></th>\n",
       "      <th></th>\n",
       "      <th></th>\n",
       "      <th></th>\n",
       "      <th></th>\n",
       "      <th></th>\n",
       "      <th></th>\n",
       "      <th></th>\n",
       "    </tr>\n",
       "  </thead>\n",
       "  <tbody>\n",
       "    <tr>\n",
       "      <th>4</th>\n",
       "      <td>I am a developer by profession</td>\n",
       "      <td>No</td>\n",
       "      <td>Never</td>\n",
       "      <td>The quality of OSS and closed source software ...</td>\n",
       "      <td>Employed full-time</td>\n",
       "      <td>United States</td>\n",
       "      <td>No</td>\n",
       "      <td>Bachelor’s degree (BA, BS, B.Eng., etc.)</td>\n",
       "      <td>Computer science, computer engineering, or sof...</td>\n",
       "      <td>Taken an online course in programming or softw...</td>\n",
       "      <td>...</td>\n",
       "      <td>Just as welcome now as I felt last year</td>\n",
       "      <td>Tech articles written by other developers;Indu...</td>\n",
       "      <td>22.0</td>\n",
       "      <td>Man</td>\n",
       "      <td>No</td>\n",
       "      <td>Straight / Heterosexual</td>\n",
       "      <td>White or of European descent</td>\n",
       "      <td>No</td>\n",
       "      <td>Appropriate in length</td>\n",
       "      <td>Easy</td>\n",
       "    </tr>\n",
       "    <tr>\n",
       "      <th>13</th>\n",
       "      <td>I am a developer by profession</td>\n",
       "      <td>Yes</td>\n",
       "      <td>Less than once a month but more than once per ...</td>\n",
       "      <td>OSS is, on average, of HIGHER quality than pro...</td>\n",
       "      <td>Employed full-time</td>\n",
       "      <td>United States</td>\n",
       "      <td>No</td>\n",
       "      <td>Master’s degree (MA, MS, M.Eng., MBA, etc.)</td>\n",
       "      <td>Computer science, computer engineering, or sof...</td>\n",
       "      <td>Taken an online course in programming or softw...</td>\n",
       "      <td>...</td>\n",
       "      <td>Somewhat more welcome now than last year</td>\n",
       "      <td>Tech articles written by other developers;Cour...</td>\n",
       "      <td>28.0</td>\n",
       "      <td>Man</td>\n",
       "      <td>No</td>\n",
       "      <td>Straight / Heterosexual</td>\n",
       "      <td>White or of European descent</td>\n",
       "      <td>Yes</td>\n",
       "      <td>Appropriate in length</td>\n",
       "      <td>Easy</td>\n",
       "    </tr>\n",
       "    <tr>\n",
       "      <th>22</th>\n",
       "      <td>I am a developer by profession</td>\n",
       "      <td>Yes</td>\n",
       "      <td>Less than once per year</td>\n",
       "      <td>OSS is, on average, of HIGHER quality than pro...</td>\n",
       "      <td>Employed full-time</td>\n",
       "      <td>United States</td>\n",
       "      <td>No</td>\n",
       "      <td>Some college/university study without earning ...</td>\n",
       "      <td>NaN</td>\n",
       "      <td>Taken an online course in programming or softw...</td>\n",
       "      <td>...</td>\n",
       "      <td>Just as welcome now as I felt last year</td>\n",
       "      <td>Tech articles written by other developers;Indu...</td>\n",
       "      <td>47.0</td>\n",
       "      <td>Man</td>\n",
       "      <td>No</td>\n",
       "      <td>Straight / Heterosexual</td>\n",
       "      <td>White or of European descent</td>\n",
       "      <td>Yes</td>\n",
       "      <td>Appropriate in length</td>\n",
       "      <td>Easy</td>\n",
       "    </tr>\n",
       "    <tr>\n",
       "      <th>23</th>\n",
       "      <td>I am a developer by profession</td>\n",
       "      <td>Yes</td>\n",
       "      <td>Less than once per year</td>\n",
       "      <td>The quality of OSS and closed source software ...</td>\n",
       "      <td>Employed full-time</td>\n",
       "      <td>United States</td>\n",
       "      <td>No</td>\n",
       "      <td>Bachelor’s degree (BA, BS, B.Eng., etc.)</td>\n",
       "      <td>Information systems, information technology, o...</td>\n",
       "      <td>Taken an online course in programming or softw...</td>\n",
       "      <td>...</td>\n",
       "      <td>Just as welcome now as I felt last year</td>\n",
       "      <td>Tech articles written by other developers;Tech...</td>\n",
       "      <td>22.0</td>\n",
       "      <td>Man</td>\n",
       "      <td>No</td>\n",
       "      <td>Straight / Heterosexual</td>\n",
       "      <td>Black or of African descent</td>\n",
       "      <td>No</td>\n",
       "      <td>Appropriate in length</td>\n",
       "      <td>Easy</td>\n",
       "    </tr>\n",
       "    <tr>\n",
       "      <th>26</th>\n",
       "      <td>I am a developer by profession</td>\n",
       "      <td>Yes</td>\n",
       "      <td>Less than once per year</td>\n",
       "      <td>The quality of OSS and closed source software ...</td>\n",
       "      <td>Employed full-time</td>\n",
       "      <td>United States</td>\n",
       "      <td>No</td>\n",
       "      <td>Some college/university study without earning ...</td>\n",
       "      <td>Computer science, computer engineering, or sof...</td>\n",
       "      <td>Taught yourself a new language, framework, or ...</td>\n",
       "      <td>...</td>\n",
       "      <td>Just as welcome now as I felt last year</td>\n",
       "      <td>NaN</td>\n",
       "      <td>34.0</td>\n",
       "      <td>Man</td>\n",
       "      <td>No</td>\n",
       "      <td>Gay or Lesbian</td>\n",
       "      <td>NaN</td>\n",
       "      <td>No</td>\n",
       "      <td>Appropriate in length</td>\n",
       "      <td>Easy</td>\n",
       "    </tr>\n",
       "    <tr>\n",
       "      <th>...</th>\n",
       "      <td>...</td>\n",
       "      <td>...</td>\n",
       "      <td>...</td>\n",
       "      <td>...</td>\n",
       "      <td>...</td>\n",
       "      <td>...</td>\n",
       "      <td>...</td>\n",
       "      <td>...</td>\n",
       "      <td>...</td>\n",
       "      <td>...</td>\n",
       "      <td>...</td>\n",
       "      <td>...</td>\n",
       "      <td>...</td>\n",
       "      <td>...</td>\n",
       "      <td>...</td>\n",
       "      <td>...</td>\n",
       "      <td>...</td>\n",
       "      <td>...</td>\n",
       "      <td>...</td>\n",
       "      <td>...</td>\n",
       "      <td>...</td>\n",
       "    </tr>\n",
       "    <tr>\n",
       "      <th>78292</th>\n",
       "      <td>NaN</td>\n",
       "      <td>No</td>\n",
       "      <td>Once a month or more often</td>\n",
       "      <td>OSS is, on average, of HIGHER quality than pro...</td>\n",
       "      <td>Independent contractor, freelancer, or self-em...</td>\n",
       "      <td>United States</td>\n",
       "      <td>No</td>\n",
       "      <td>Other doctoral degree (Ph.D, Ed.D., etc.)</td>\n",
       "      <td>A health science (ex. nursing, pharmacy, radio...</td>\n",
       "      <td>Completed an industry certification program (e...</td>\n",
       "      <td>...</td>\n",
       "      <td>Somewhat less welcome now than last year</td>\n",
       "      <td>NaN</td>\n",
       "      <td>60.0</td>\n",
       "      <td>Man</td>\n",
       "      <td>No</td>\n",
       "      <td>Straight / Heterosexual</td>\n",
       "      <td>White or of European descent</td>\n",
       "      <td>Yes</td>\n",
       "      <td>Too long</td>\n",
       "      <td>Neither easy nor difficult</td>\n",
       "    </tr>\n",
       "    <tr>\n",
       "      <th>82717</th>\n",
       "      <td>NaN</td>\n",
       "      <td>No</td>\n",
       "      <td>Less than once per year</td>\n",
       "      <td>The quality of OSS and closed source software ...</td>\n",
       "      <td>Not employed, but looking for work</td>\n",
       "      <td>United States</td>\n",
       "      <td>No</td>\n",
       "      <td>Secondary school (e.g. American high school, G...</td>\n",
       "      <td>NaN</td>\n",
       "      <td>NaN</td>\n",
       "      <td>...</td>\n",
       "      <td>NaN</td>\n",
       "      <td>Industry news about technologies you're intere...</td>\n",
       "      <td>44.0</td>\n",
       "      <td>Man</td>\n",
       "      <td>No</td>\n",
       "      <td>Straight / Heterosexual</td>\n",
       "      <td>White or of European descent</td>\n",
       "      <td>Yes</td>\n",
       "      <td>Appropriate in length</td>\n",
       "      <td>Neither easy nor difficult</td>\n",
       "    </tr>\n",
       "    <tr>\n",
       "      <th>83397</th>\n",
       "      <td>NaN</td>\n",
       "      <td>Yes</td>\n",
       "      <td>Less than once per year</td>\n",
       "      <td>NaN</td>\n",
       "      <td>Not employed, but looking for work</td>\n",
       "      <td>United States</td>\n",
       "      <td>No</td>\n",
       "      <td>Bachelor’s degree (BA, BS, B.Eng., etc.)</td>\n",
       "      <td>Computer science, computer engineering, or sof...</td>\n",
       "      <td>Taken an online course in programming or softw...</td>\n",
       "      <td>...</td>\n",
       "      <td>Just as welcome now as I felt last year</td>\n",
       "      <td>NaN</td>\n",
       "      <td>27.0</td>\n",
       "      <td>Woman</td>\n",
       "      <td>No</td>\n",
       "      <td>Bisexual</td>\n",
       "      <td>White or of European descent</td>\n",
       "      <td>No</td>\n",
       "      <td>Appropriate in length</td>\n",
       "      <td>Easy</td>\n",
       "    </tr>\n",
       "    <tr>\n",
       "      <th>85642</th>\n",
       "      <td>NaN</td>\n",
       "      <td>No</td>\n",
       "      <td>Less than once per year</td>\n",
       "      <td>OSS is, on average, of LOWER quality than prop...</td>\n",
       "      <td>Independent contractor, freelancer, or self-em...</td>\n",
       "      <td>United States</td>\n",
       "      <td>No</td>\n",
       "      <td>Associate degree</td>\n",
       "      <td>Information systems, information technology, o...</td>\n",
       "      <td>Taken an online course in programming or softw...</td>\n",
       "      <td>...</td>\n",
       "      <td>Just as welcome now as I felt last year</td>\n",
       "      <td>Tech articles written by other developers;Indu...</td>\n",
       "      <td>34.0</td>\n",
       "      <td>Non-binary, genderqueer, or gender non-conforming</td>\n",
       "      <td>NaN</td>\n",
       "      <td>Bisexual;Gay or Lesbian</td>\n",
       "      <td>White or of European descent</td>\n",
       "      <td>No</td>\n",
       "      <td>Appropriate in length</td>\n",
       "      <td>Easy</td>\n",
       "    </tr>\n",
       "    <tr>\n",
       "      <th>88282</th>\n",
       "      <td>NaN</td>\n",
       "      <td>Yes</td>\n",
       "      <td>Once a month or more often</td>\n",
       "      <td>The quality of OSS and closed source software ...</td>\n",
       "      <td>Not employed, but looking for work</td>\n",
       "      <td>United States</td>\n",
       "      <td>No</td>\n",
       "      <td>Some college/university study without earning ...</td>\n",
       "      <td>Computer science, computer engineering, or sof...</td>\n",
       "      <td>Taught yourself a new language, framework, or ...</td>\n",
       "      <td>...</td>\n",
       "      <td>Just as welcome now as I felt last year</td>\n",
       "      <td>NaN</td>\n",
       "      <td>NaN</td>\n",
       "      <td>Man</td>\n",
       "      <td>No</td>\n",
       "      <td>Straight / Heterosexual</td>\n",
       "      <td>NaN</td>\n",
       "      <td>No</td>\n",
       "      <td>Too short</td>\n",
       "      <td>Neither easy nor difficult</td>\n",
       "    </tr>\n",
       "  </tbody>\n",
       "</table>\n",
       "<p>20949 rows × 84 columns</p>\n",
       "</div>"
      ],
      "text/plain": [
       "                                MainBranch Hobbyist  \\\n",
       "Respondent                                            \n",
       "4           I am a developer by profession       No   \n",
       "13          I am a developer by profession      Yes   \n",
       "22          I am a developer by profession      Yes   \n",
       "23          I am a developer by profession      Yes   \n",
       "26          I am a developer by profession      Yes   \n",
       "...                                    ...      ...   \n",
       "78292                                  NaN       No   \n",
       "82717                                  NaN       No   \n",
       "83397                                  NaN      Yes   \n",
       "85642                                  NaN       No   \n",
       "88282                                  NaN      Yes   \n",
       "\n",
       "                                                  OpenSourcer  \\\n",
       "Respondent                                                      \n",
       "4                                                       Never   \n",
       "13          Less than once a month but more than once per ...   \n",
       "22                                    Less than once per year   \n",
       "23                                    Less than once per year   \n",
       "26                                    Less than once per year   \n",
       "...                                                       ...   \n",
       "78292                              Once a month or more often   \n",
       "82717                                 Less than once per year   \n",
       "83397                                 Less than once per year   \n",
       "85642                                 Less than once per year   \n",
       "88282                              Once a month or more often   \n",
       "\n",
       "                                                   OpenSource  \\\n",
       "Respondent                                                      \n",
       "4           The quality of OSS and closed source software ...   \n",
       "13          OSS is, on average, of HIGHER quality than pro...   \n",
       "22          OSS is, on average, of HIGHER quality than pro...   \n",
       "23          The quality of OSS and closed source software ...   \n",
       "26          The quality of OSS and closed source software ...   \n",
       "...                                                       ...   \n",
       "78292       OSS is, on average, of HIGHER quality than pro...   \n",
       "82717       The quality of OSS and closed source software ...   \n",
       "83397                                                     NaN   \n",
       "85642       OSS is, on average, of LOWER quality than prop...   \n",
       "88282       The quality of OSS and closed source software ...   \n",
       "\n",
       "                                                   Employment        Country  \\\n",
       "Respondent                                                                     \n",
       "4                                          Employed full-time  United States   \n",
       "13                                         Employed full-time  United States   \n",
       "22                                         Employed full-time  United States   \n",
       "23                                         Employed full-time  United States   \n",
       "26                                         Employed full-time  United States   \n",
       "...                                                       ...            ...   \n",
       "78292       Independent contractor, freelancer, or self-em...  United States   \n",
       "82717                      Not employed, but looking for work  United States   \n",
       "83397                      Not employed, but looking for work  United States   \n",
       "85642       Independent contractor, freelancer, or self-em...  United States   \n",
       "88282                      Not employed, but looking for work  United States   \n",
       "\n",
       "           Student                                            EdLevel  \\\n",
       "Respondent                                                              \n",
       "4               No           Bachelor’s degree (BA, BS, B.Eng., etc.)   \n",
       "13              No        Master’s degree (MA, MS, M.Eng., MBA, etc.)   \n",
       "22              No  Some college/university study without earning ...   \n",
       "23              No           Bachelor’s degree (BA, BS, B.Eng., etc.)   \n",
       "26              No  Some college/university study without earning ...   \n",
       "...            ...                                                ...   \n",
       "78292           No          Other doctoral degree (Ph.D, Ed.D., etc.)   \n",
       "82717           No  Secondary school (e.g. American high school, G...   \n",
       "83397           No           Bachelor’s degree (BA, BS, B.Eng., etc.)   \n",
       "85642           No                                   Associate degree   \n",
       "88282           No  Some college/university study without earning ...   \n",
       "\n",
       "                                               UndergradMajor  \\\n",
       "Respondent                                                      \n",
       "4           Computer science, computer engineering, or sof...   \n",
       "13          Computer science, computer engineering, or sof...   \n",
       "22                                                        NaN   \n",
       "23          Information systems, information technology, o...   \n",
       "26          Computer science, computer engineering, or sof...   \n",
       "...                                                       ...   \n",
       "78292       A health science (ex. nursing, pharmacy, radio...   \n",
       "82717                                                     NaN   \n",
       "83397       Computer science, computer engineering, or sof...   \n",
       "85642       Information systems, information technology, o...   \n",
       "88282       Computer science, computer engineering, or sof...   \n",
       "\n",
       "                                                     EduOther  ...  \\\n",
       "Respondent                                                     ...   \n",
       "4           Taken an online course in programming or softw...  ...   \n",
       "13          Taken an online course in programming or softw...  ...   \n",
       "22          Taken an online course in programming or softw...  ...   \n",
       "23          Taken an online course in programming or softw...  ...   \n",
       "26          Taught yourself a new language, framework, or ...  ...   \n",
       "...                                                       ...  ...   \n",
       "78292       Completed an industry certification program (e...  ...   \n",
       "82717                                                     NaN  ...   \n",
       "83397       Taken an online course in programming or softw...  ...   \n",
       "85642       Taken an online course in programming or softw...  ...   \n",
       "88282       Taught yourself a new language, framework, or ...  ...   \n",
       "\n",
       "                                       WelcomeChange  \\\n",
       "Respondent                                             \n",
       "4            Just as welcome now as I felt last year   \n",
       "13          Somewhat more welcome now than last year   \n",
       "22           Just as welcome now as I felt last year   \n",
       "23           Just as welcome now as I felt last year   \n",
       "26           Just as welcome now as I felt last year   \n",
       "...                                              ...   \n",
       "78292       Somewhat less welcome now than last year   \n",
       "82717                                            NaN   \n",
       "83397        Just as welcome now as I felt last year   \n",
       "85642        Just as welcome now as I felt last year   \n",
       "88282        Just as welcome now as I felt last year   \n",
       "\n",
       "                                                 SONewContent   Age  \\\n",
       "Respondent                                                            \n",
       "4           Tech articles written by other developers;Indu...  22.0   \n",
       "13          Tech articles written by other developers;Cour...  28.0   \n",
       "22          Tech articles written by other developers;Indu...  47.0   \n",
       "23          Tech articles written by other developers;Tech...  22.0   \n",
       "26                                                        NaN  34.0   \n",
       "...                                                       ...   ...   \n",
       "78292                                                     NaN  60.0   \n",
       "82717       Industry news about technologies you're intere...  44.0   \n",
       "83397                                                     NaN  27.0   \n",
       "85642       Tech articles written by other developers;Indu...  34.0   \n",
       "88282                                                     NaN   NaN   \n",
       "\n",
       "                                                       Gender Trans  \\\n",
       "Respondent                                                            \n",
       "4                                                         Man    No   \n",
       "13                                                        Man    No   \n",
       "22                                                        Man    No   \n",
       "23                                                        Man    No   \n",
       "26                                                        Man    No   \n",
       "...                                                       ...   ...   \n",
       "78292                                                     Man    No   \n",
       "82717                                                     Man    No   \n",
       "83397                                                   Woman    No   \n",
       "85642       Non-binary, genderqueer, or gender non-conforming   NaN   \n",
       "88282                                                     Man    No   \n",
       "\n",
       "                          Sexuality                     Ethnicity Dependents  \\\n",
       "Respondent                                                                     \n",
       "4           Straight / Heterosexual  White or of European descent         No   \n",
       "13          Straight / Heterosexual  White or of European descent        Yes   \n",
       "22          Straight / Heterosexual  White or of European descent        Yes   \n",
       "23          Straight / Heterosexual   Black or of African descent         No   \n",
       "26                   Gay or Lesbian                           NaN         No   \n",
       "...                             ...                           ...        ...   \n",
       "78292       Straight / Heterosexual  White or of European descent        Yes   \n",
       "82717       Straight / Heterosexual  White or of European descent        Yes   \n",
       "83397                      Bisexual  White or of European descent         No   \n",
       "85642       Bisexual;Gay or Lesbian  White or of European descent         No   \n",
       "88282       Straight / Heterosexual                           NaN         No   \n",
       "\n",
       "                     SurveyLength                  SurveyEase  \n",
       "Respondent                                                     \n",
       "4           Appropriate in length                        Easy  \n",
       "13          Appropriate in length                        Easy  \n",
       "22          Appropriate in length                        Easy  \n",
       "23          Appropriate in length                        Easy  \n",
       "26          Appropriate in length                        Easy  \n",
       "...                           ...                         ...  \n",
       "78292                    Too long  Neither easy nor difficult  \n",
       "82717       Appropriate in length  Neither easy nor difficult  \n",
       "83397       Appropriate in length                        Easy  \n",
       "85642       Appropriate in length                        Easy  \n",
       "88282                   Too short  Neither easy nor difficult  \n",
       "\n",
       "[20949 rows x 84 columns]"
      ]
     },
     "metadata": {},
     "execution_count": 8
    }
   ],
   "metadata": {}
  },
  {
   "cell_type": "markdown",
   "source": [
    "* ### use aggregate function on groups"
   ],
   "metadata": {}
  },
  {
   "cell_type": "code",
   "execution_count": 9,
   "source": [
    "country_grp[\"SocialMedia\"].value_counts().head(5)"
   ],
   "outputs": [
    {
     "output_type": "execute_result",
     "data": {
      "text/plain": [
       "Country      SocialMedia             \n",
       "Afghanistan  Facebook                    15\n",
       "             YouTube                      9\n",
       "             I don't use social media     6\n",
       "             WhatsApp                     4\n",
       "             Instagram                    1\n",
       "Name: SocialMedia, dtype: int64"
      ]
     },
     "metadata": {},
     "execution_count": 9
    }
   ],
   "metadata": {}
  },
  {
   "cell_type": "markdown",
   "source": [
    "### filters vs. groups\r\n",
    "* ### Groups can display the result for all countries separated at once\r\n",
    "* ### filters can display overall result  "
   ],
   "metadata": {}
  },
  {
   "cell_type": "code",
   "execution_count": 10,
   "source": [
    "# same queries for 1 country\r\n",
    "df.loc[df[\"Country\"] == \"United States\"][\"SocialMedia\"].value_counts()\r\n",
    "country_grp[\"SocialMedia\"].value_counts().loc[\"United States\"]\r\n",
    "\r\n",
    "# same queries difference when specifying not country\r\n",
    "df[\"SocialMedia\"].value_counts()\r\n",
    "country_grp[\"SocialMedia\"].value_counts()"
   ],
   "outputs": [
    {
     "output_type": "execute_result",
     "data": {
      "text/plain": [
       "Country      SocialMedia             \n",
       "Afghanistan  Facebook                    15\n",
       "             YouTube                      9\n",
       "             I don't use social media     6\n",
       "             WhatsApp                     4\n",
       "             Instagram                    1\n",
       "                                         ..\n",
       "Zimbabwe     Facebook                     3\n",
       "             YouTube                      3\n",
       "             Instagram                    2\n",
       "             LinkedIn                     2\n",
       "             Reddit                       1\n",
       "Name: SocialMedia, Length: 1220, dtype: int64"
      ]
     },
     "metadata": {},
     "execution_count": 10
    }
   ],
   "metadata": {}
  },
  {
   "cell_type": "markdown",
   "source": [
    "### access 1 group after aggregation"
   ],
   "metadata": {}
  },
  {
   "cell_type": "code",
   "execution_count": 11,
   "source": [
    "country_grp[\"ConvertedComp\"].median()[\"Germany\"]"
   ],
   "outputs": [
    {
     "output_type": "execute_result",
     "data": {
      "text/plain": [
       "63016.0"
      ]
     },
     "metadata": {},
     "execution_count": 11
    }
   ],
   "metadata": {}
  },
  {
   "cell_type": "markdown",
   "source": [
    "## agg"
   ],
   "metadata": {}
  },
  {
   "cell_type": "markdown",
   "source": [
    "* ### apply multiple functions on a group"
   ],
   "metadata": {}
  },
  {
   "cell_type": "code",
   "execution_count": 12,
   "source": [
    "country_grp[\"ConvertedComp\"].agg([\"median\", \"mean\"])"
   ],
   "outputs": [
    {
     "output_type": "execute_result",
     "data": {
      "text/html": [
       "<div>\n",
       "<style scoped>\n",
       "    .dataframe tbody tr th:only-of-type {\n",
       "        vertical-align: middle;\n",
       "    }\n",
       "\n",
       "    .dataframe tbody tr th {\n",
       "        vertical-align: top;\n",
       "    }\n",
       "\n",
       "    .dataframe thead th {\n",
       "        text-align: right;\n",
       "    }\n",
       "</style>\n",
       "<table border=\"1\" class=\"dataframe\">\n",
       "  <thead>\n",
       "    <tr style=\"text-align: right;\">\n",
       "      <th></th>\n",
       "      <th>median</th>\n",
       "      <th>mean</th>\n",
       "    </tr>\n",
       "    <tr>\n",
       "      <th>Country</th>\n",
       "      <th></th>\n",
       "      <th></th>\n",
       "    </tr>\n",
       "  </thead>\n",
       "  <tbody>\n",
       "    <tr>\n",
       "      <th>Afghanistan</th>\n",
       "      <td>6222.0</td>\n",
       "      <td>101953.333333</td>\n",
       "    </tr>\n",
       "    <tr>\n",
       "      <th>Albania</th>\n",
       "      <td>10818.0</td>\n",
       "      <td>21833.700000</td>\n",
       "    </tr>\n",
       "    <tr>\n",
       "      <th>Algeria</th>\n",
       "      <td>7878.0</td>\n",
       "      <td>34924.047619</td>\n",
       "    </tr>\n",
       "    <tr>\n",
       "      <th>Andorra</th>\n",
       "      <td>160931.0</td>\n",
       "      <td>160931.000000</td>\n",
       "    </tr>\n",
       "    <tr>\n",
       "      <th>Angola</th>\n",
       "      <td>7764.0</td>\n",
       "      <td>7764.000000</td>\n",
       "    </tr>\n",
       "    <tr>\n",
       "      <th>...</th>\n",
       "      <td>...</td>\n",
       "      <td>...</td>\n",
       "    </tr>\n",
       "    <tr>\n",
       "      <th>Venezuela, Bolivarian Republic of...</th>\n",
       "      <td>6384.0</td>\n",
       "      <td>14581.627907</td>\n",
       "    </tr>\n",
       "    <tr>\n",
       "      <th>Viet Nam</th>\n",
       "      <td>11892.0</td>\n",
       "      <td>17233.436782</td>\n",
       "    </tr>\n",
       "    <tr>\n",
       "      <th>Yemen</th>\n",
       "      <td>11940.0</td>\n",
       "      <td>16909.166667</td>\n",
       "    </tr>\n",
       "    <tr>\n",
       "      <th>Zambia</th>\n",
       "      <td>5040.0</td>\n",
       "      <td>10075.375000</td>\n",
       "    </tr>\n",
       "    <tr>\n",
       "      <th>Zimbabwe</th>\n",
       "      <td>19200.0</td>\n",
       "      <td>34046.666667</td>\n",
       "    </tr>\n",
       "  </tbody>\n",
       "</table>\n",
       "<p>179 rows × 2 columns</p>\n",
       "</div>"
      ],
      "text/plain": [
       "                                        median           mean\n",
       "Country                                                      \n",
       "Afghanistan                             6222.0  101953.333333\n",
       "Albania                                10818.0   21833.700000\n",
       "Algeria                                 7878.0   34924.047619\n",
       "Andorra                               160931.0  160931.000000\n",
       "Angola                                  7764.0    7764.000000\n",
       "...                                        ...            ...\n",
       "Venezuela, Bolivarian Republic of...    6384.0   14581.627907\n",
       "Viet Nam                               11892.0   17233.436782\n",
       "Yemen                                  11940.0   16909.166667\n",
       "Zambia                                  5040.0   10075.375000\n",
       "Zimbabwe                               19200.0   34046.666667\n",
       "\n",
       "[179 rows x 2 columns]"
      ]
     },
     "metadata": {},
     "execution_count": 12
    }
   ],
   "metadata": {}
  },
  {
   "cell_type": "markdown",
   "source": [
    "## apply scalar methods like str in groupby-series"
   ],
   "metadata": {}
  },
  {
   "cell_type": "code",
   "execution_count": 13,
   "source": [
    "filt = df[\"Country\"] == \"India\"\r\n",
    "df[filt][\"LanguageWorkedWith\"].str.contains(\"Python\")"
   ],
   "outputs": [
    {
     "output_type": "execute_result",
     "data": {
      "text/plain": [
       "Respondent\n",
       "8         True\n",
       "10        True\n",
       "15       False\n",
       "50        True\n",
       "65       False\n",
       "         ...  \n",
       "77339    False\n",
       "79795     True\n",
       "83862    False\n",
       "84299     True\n",
       "86012    False\n",
       "Name: LanguageWorkedWith, Length: 9061, dtype: object"
      ]
     },
     "metadata": {},
     "execution_count": 13
    }
   ],
   "metadata": {}
  },
  {
   "cell_type": "code",
   "execution_count": 14,
   "source": [
    "# determine sum with boolean summation: True=1, False=0\r\n",
    "df[filt][\"LanguageWorkedWith\"].str.contains(\"Python\").sum()"
   ],
   "outputs": [
    {
     "output_type": "execute_result",
     "data": {
      "text/plain": [
       "3105"
      ]
     },
     "metadata": {},
     "execution_count": 14
    }
   ],
   "metadata": {}
  },
  {
   "cell_type": "code",
   "execution_count": 15,
   "source": [
    "# apply necessary, due to groupby-series cant be applied str method due to str is a scalar method\r\n",
    "# Instead use str method to every single series contained in this groupby-series with apply.\r\n",
    "# And then use aggregate function like sum otherwise we would destroy the groups\r\n",
    "country_grp[\"LanguageWorkedWith\"].apply(lambda x: x.str.contains(\"Python\").sum())"
   ],
   "outputs": [
    {
     "output_type": "execute_result",
     "data": {
      "text/plain": [
       "Country\n",
       "Afghanistan                              8\n",
       "Albania                                 23\n",
       "Algeria                                 40\n",
       "Andorra                                  0\n",
       "Angola                                   2\n",
       "                                        ..\n",
       "Venezuela, Bolivarian Republic of...    28\n",
       "Viet Nam                                78\n",
       "Yemen                                    3\n",
       "Zambia                                   4\n",
       "Zimbabwe                                14\n",
       "Name: LanguageWorkedWith, Length: 179, dtype: int64"
      ]
     },
     "metadata": {},
     "execution_count": 15
    }
   ],
   "metadata": {}
  },
  {
   "cell_type": "markdown",
   "source": [
    "## get percentage of python users"
   ],
   "metadata": {}
  },
  {
   "cell_type": "markdown",
   "source": [
    "* ### 1st solution"
   ],
   "metadata": {}
  },
  {
   "cell_type": "code",
   "execution_count": 16,
   "source": [
    "country_respondent = df[\"Country\"].value_counts()\r\n",
    "country_uses_python = country_grp[\"LanguageWorkedWith\"].apply(lambda x: x.str.contains(\"Python\").sum())\r\n",
    "series_python1 = country_uses_python / country_respondent\r\n",
    "\r\n",
    "df_python1 = pd.DataFrame({\"county\": series_python1.index, \"python users in %\": series_python1.values})\r\n",
    "df_python1.head()"
   ],
   "outputs": [
    {
     "output_type": "execute_result",
     "data": {
      "text/html": [
       "<div>\n",
       "<style scoped>\n",
       "    .dataframe tbody tr th:only-of-type {\n",
       "        vertical-align: middle;\n",
       "    }\n",
       "\n",
       "    .dataframe tbody tr th {\n",
       "        vertical-align: top;\n",
       "    }\n",
       "\n",
       "    .dataframe thead th {\n",
       "        text-align: right;\n",
       "    }\n",
       "</style>\n",
       "<table border=\"1\" class=\"dataframe\">\n",
       "  <thead>\n",
       "    <tr style=\"text-align: right;\">\n",
       "      <th></th>\n",
       "      <th>county</th>\n",
       "      <th>python users in %</th>\n",
       "    </tr>\n",
       "  </thead>\n",
       "  <tbody>\n",
       "    <tr>\n",
       "      <th>0</th>\n",
       "      <td>Afghanistan</td>\n",
       "      <td>0.181818</td>\n",
       "    </tr>\n",
       "    <tr>\n",
       "      <th>1</th>\n",
       "      <td>Albania</td>\n",
       "      <td>0.267442</td>\n",
       "    </tr>\n",
       "    <tr>\n",
       "      <th>2</th>\n",
       "      <td>Algeria</td>\n",
       "      <td>0.298507</td>\n",
       "    </tr>\n",
       "    <tr>\n",
       "      <th>3</th>\n",
       "      <td>Andorra</td>\n",
       "      <td>0.000000</td>\n",
       "    </tr>\n",
       "    <tr>\n",
       "      <th>4</th>\n",
       "      <td>Angola</td>\n",
       "      <td>0.400000</td>\n",
       "    </tr>\n",
       "  </tbody>\n",
       "</table>\n",
       "</div>"
      ],
      "text/plain": [
       "        county  python users in %\n",
       "0  Afghanistan           0.181818\n",
       "1      Albania           0.267442\n",
       "2      Algeria           0.298507\n",
       "3      Andorra           0.000000\n",
       "4       Angola           0.400000"
      ]
     },
     "metadata": {},
     "execution_count": 16
    }
   ],
   "metadata": {}
  },
  {
   "cell_type": "markdown",
   "source": [
    "* ### 2nd solution"
   ],
   "metadata": {}
  },
  {
   "cell_type": "code",
   "execution_count": 17,
   "source": [
    "df_python2 = pd.concat([country_respondent, country_uses_python], axis=1)\r\n",
    "df_python2.rename(columns={\"Country\" : \"NumRespondent\", \"LanguageWorkedWith\" : \"NumKnowsPython\"}, inplace=True)\r\n",
    "df_python2"
   ],
   "outputs": [
    {
     "output_type": "execute_result",
     "data": {
      "text/html": [
       "<div>\n",
       "<style scoped>\n",
       "    .dataframe tbody tr th:only-of-type {\n",
       "        vertical-align: middle;\n",
       "    }\n",
       "\n",
       "    .dataframe tbody tr th {\n",
       "        vertical-align: top;\n",
       "    }\n",
       "\n",
       "    .dataframe thead th {\n",
       "        text-align: right;\n",
       "    }\n",
       "</style>\n",
       "<table border=\"1\" class=\"dataframe\">\n",
       "  <thead>\n",
       "    <tr style=\"text-align: right;\">\n",
       "      <th></th>\n",
       "      <th>NumRespondent</th>\n",
       "      <th>NumKnowsPython</th>\n",
       "    </tr>\n",
       "  </thead>\n",
       "  <tbody>\n",
       "    <tr>\n",
       "      <th>United States</th>\n",
       "      <td>20949</td>\n",
       "      <td>10083</td>\n",
       "    </tr>\n",
       "    <tr>\n",
       "      <th>India</th>\n",
       "      <td>9061</td>\n",
       "      <td>3105</td>\n",
       "    </tr>\n",
       "    <tr>\n",
       "      <th>Germany</th>\n",
       "      <td>5866</td>\n",
       "      <td>2451</td>\n",
       "    </tr>\n",
       "    <tr>\n",
       "      <th>United Kingdom</th>\n",
       "      <td>5737</td>\n",
       "      <td>2384</td>\n",
       "    </tr>\n",
       "    <tr>\n",
       "      <th>Canada</th>\n",
       "      <td>3395</td>\n",
       "      <td>1558</td>\n",
       "    </tr>\n",
       "    <tr>\n",
       "      <th>...</th>\n",
       "      <td>...</td>\n",
       "      <td>...</td>\n",
       "    </tr>\n",
       "    <tr>\n",
       "      <th>Tonga</th>\n",
       "      <td>1</td>\n",
       "      <td>0</td>\n",
       "    </tr>\n",
       "    <tr>\n",
       "      <th>Timor-Leste</th>\n",
       "      <td>1</td>\n",
       "      <td>1</td>\n",
       "    </tr>\n",
       "    <tr>\n",
       "      <th>North Korea</th>\n",
       "      <td>1</td>\n",
       "      <td>0</td>\n",
       "    </tr>\n",
       "    <tr>\n",
       "      <th>Brunei Darussalam</th>\n",
       "      <td>1</td>\n",
       "      <td>0</td>\n",
       "    </tr>\n",
       "    <tr>\n",
       "      <th>Chad</th>\n",
       "      <td>1</td>\n",
       "      <td>0</td>\n",
       "    </tr>\n",
       "  </tbody>\n",
       "</table>\n",
       "<p>179 rows × 2 columns</p>\n",
       "</div>"
      ],
      "text/plain": [
       "                   NumRespondent  NumKnowsPython\n",
       "United States              20949           10083\n",
       "India                       9061            3105\n",
       "Germany                     5866            2451\n",
       "United Kingdom              5737            2384\n",
       "Canada                      3395            1558\n",
       "...                          ...             ...\n",
       "Tonga                          1               0\n",
       "Timor-Leste                    1               1\n",
       "North Korea                    1               0\n",
       "Brunei Darussalam              1               0\n",
       "Chad                           1               0\n",
       "\n",
       "[179 rows x 2 columns]"
      ]
     },
     "metadata": {},
     "execution_count": 17
    }
   ],
   "metadata": {}
  },
  {
   "cell_type": "markdown",
   "source": [
    "* ### 3rd solution"
   ],
   "metadata": {}
  },
  {
   "cell_type": "code",
   "execution_count": 18,
   "source": [
    "# 3rd solution\r\n",
    "ctr_knows_python = country_grp[\"LanguageWorkedWith\"].apply(lambda x: x.str.contains(\"Python\", na=False).value_counts(normalize=True))\r\n",
    "ctr_knows_python.rename({False:\"Don't know\", True:\"I know\"}, inplace=True)\r\n",
    "ctr_knows_python"
   ],
   "outputs": [
    {
     "output_type": "execute_result",
     "data": {
      "text/plain": [
       "Country                \n",
       "Afghanistan  Don't know    0.818182\n",
       "             I know        0.181818\n",
       "Albania      Don't know    0.732558\n",
       "             I know        0.267442\n",
       "Algeria      Don't know    0.701493\n",
       "                             ...   \n",
       "Yemen        I know        0.157895\n",
       "Zambia       Don't know    0.666667\n",
       "             I know        0.333333\n",
       "Zimbabwe     Don't know    0.641026\n",
       "             I know        0.358974\n",
       "Name: LanguageWorkedWith, Length: 337, dtype: float64"
      ]
     },
     "metadata": {},
     "execution_count": 18
    }
   ],
   "metadata": {}
  },
  {
   "cell_type": "markdown",
   "source": [
    "* ### multi indexing with aggregation"
   ],
   "metadata": {}
  },
  {
   "cell_type": "code",
   "execution_count": 19,
   "source": [
    "country_grp[\"SocialMedia\"].value_counts().loc[\"India\", \"Facebook\"]"
   ],
   "outputs": [
    {
     "output_type": "execute_result",
     "data": {
      "text/plain": [
       "841"
      ]
     },
     "metadata": {},
     "execution_count": 19
    }
   ],
   "metadata": {}
  }
 ],
 "metadata": {
  "orig_nbformat": 4,
  "language_info": {
   "name": "python",
   "version": "3.9.6",
   "mimetype": "text/x-python",
   "codemirror_mode": {
    "name": "ipython",
    "version": 3
   },
   "pygments_lexer": "ipython3",
   "nbconvert_exporter": "python",
   "file_extension": ".py"
  },
  "kernelspec": {
   "name": "python3",
   "display_name": "Python 3.9.6 64-bit ('venv': venv)"
  },
  "interpreter": {
   "hash": "10bb56018dfb7002895f873d2c51140764030ea9df51df08db65c436f8abe775"
  }
 },
 "nbformat": 4,
 "nbformat_minor": 2
}