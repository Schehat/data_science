{
 "cells": [
  {
   "cell_type": "code",
   "execution_count": 1,
   "source": [
    "import pandas as pd"
   ],
   "outputs": [],
   "metadata": {}
  },
  {
   "cell_type": "code",
   "execution_count": 4,
   "source": [
    "df = pd.read_csv(\"survey_results_public.csv\")\r\n",
    "schema_df = pd.read_csv(\"survey_results_schema.csv\")\r\n",
    "pd.set_option(\"display.max_rows\", 85) \r\n",
    "pd.set_option(\"display.max_columns\", 85)  "
   ],
   "outputs": [],
   "metadata": {}
  },
  {
   "cell_type": "markdown",
   "source": [
    "* ### dataframe 2d array, contains multiple rows and columns\r\n",
    "* ### series 1d array, contains single rows or columns and an index"
   ],
   "metadata": {}
  },
  {
   "cell_type": "markdown",
   "source": [
    "* ### selecting columns "
   ],
   "metadata": {}
  },
  {
   "cell_type": "code",
   "execution_count": 5,
   "source": [
    "df[\"MainBranch\"]"
   ],
   "outputs": [
    {
     "output_type": "execute_result",
     "data": {
      "text/plain": [
       "0                   I am a student who is learning to code\n",
       "1                   I am a student who is learning to code\n",
       "2        I am not primarily a developer, but I write co...\n",
       "3                           I am a developer by profession\n",
       "4                           I am a developer by profession\n",
       "                               ...                        \n",
       "88878                                                  NaN\n",
       "88879                                                  NaN\n",
       "88880                                                  NaN\n",
       "88881                                                  NaN\n",
       "88882                                                  NaN\n",
       "Name: MainBranch, Length: 88883, dtype: object"
      ]
     },
     "metadata": {},
     "execution_count": 5
    }
   ],
   "metadata": {}
  },
  {
   "cell_type": "markdown",
   "source": [
    "* ### value_counts"
   ],
   "metadata": {}
  },
  {
   "cell_type": "code",
   "execution_count": 6,
   "source": [
    "df[\"Hobbyist\"].value_counts()"
   ],
   "outputs": [
    {
     "output_type": "execute_result",
     "data": {
      "text/plain": [
       "Yes    71257\n",
       "No     17626\n",
       "Name: Hobbyist, dtype: int64"
      ]
     },
     "metadata": {},
     "execution_count": 6
    }
   ],
   "metadata": {}
  },
  {
   "cell_type": "code",
   "execution_count": 7,
   "source": [
    "# Note: need to pass list\r\n",
    "df[[\"MainBranch\", \"Hobbyist\"]]"
   ],
   "outputs": [
    {
     "output_type": "execute_result",
     "data": {
      "text/html": [
       "<div>\n",
       "<style scoped>\n",
       "    .dataframe tbody tr th:only-of-type {\n",
       "        vertical-align: middle;\n",
       "    }\n",
       "\n",
       "    .dataframe tbody tr th {\n",
       "        vertical-align: top;\n",
       "    }\n",
       "\n",
       "    .dataframe thead th {\n",
       "        text-align: right;\n",
       "    }\n",
       "</style>\n",
       "<table border=\"1\" class=\"dataframe\">\n",
       "  <thead>\n",
       "    <tr style=\"text-align: right;\">\n",
       "      <th></th>\n",
       "      <th>MainBranch</th>\n",
       "      <th>Hobbyist</th>\n",
       "    </tr>\n",
       "  </thead>\n",
       "  <tbody>\n",
       "    <tr>\n",
       "      <th>0</th>\n",
       "      <td>I am a student who is learning to code</td>\n",
       "      <td>Yes</td>\n",
       "    </tr>\n",
       "    <tr>\n",
       "      <th>1</th>\n",
       "      <td>I am a student who is learning to code</td>\n",
       "      <td>No</td>\n",
       "    </tr>\n",
       "    <tr>\n",
       "      <th>2</th>\n",
       "      <td>I am not primarily a developer, but I write co...</td>\n",
       "      <td>Yes</td>\n",
       "    </tr>\n",
       "    <tr>\n",
       "      <th>3</th>\n",
       "      <td>I am a developer by profession</td>\n",
       "      <td>No</td>\n",
       "    </tr>\n",
       "    <tr>\n",
       "      <th>4</th>\n",
       "      <td>I am a developer by profession</td>\n",
       "      <td>Yes</td>\n",
       "    </tr>\n",
       "    <tr>\n",
       "      <th>...</th>\n",
       "      <td>...</td>\n",
       "      <td>...</td>\n",
       "    </tr>\n",
       "    <tr>\n",
       "      <th>88878</th>\n",
       "      <td>NaN</td>\n",
       "      <td>Yes</td>\n",
       "    </tr>\n",
       "    <tr>\n",
       "      <th>88879</th>\n",
       "      <td>NaN</td>\n",
       "      <td>No</td>\n",
       "    </tr>\n",
       "    <tr>\n",
       "      <th>88880</th>\n",
       "      <td>NaN</td>\n",
       "      <td>No</td>\n",
       "    </tr>\n",
       "    <tr>\n",
       "      <th>88881</th>\n",
       "      <td>NaN</td>\n",
       "      <td>No</td>\n",
       "    </tr>\n",
       "    <tr>\n",
       "      <th>88882</th>\n",
       "      <td>NaN</td>\n",
       "      <td>Yes</td>\n",
       "    </tr>\n",
       "  </tbody>\n",
       "</table>\n",
       "<p>88883 rows × 2 columns</p>\n",
       "</div>"
      ],
      "text/plain": [
       "                                              MainBranch Hobbyist\n",
       "0                 I am a student who is learning to code      Yes\n",
       "1                 I am a student who is learning to code       No\n",
       "2      I am not primarily a developer, but I write co...      Yes\n",
       "3                         I am a developer by profession       No\n",
       "4                         I am a developer by profession      Yes\n",
       "...                                                  ...      ...\n",
       "88878                                                NaN      Yes\n",
       "88879                                                NaN       No\n",
       "88880                                                NaN       No\n",
       "88881                                                NaN       No\n",
       "88882                                                NaN      Yes\n",
       "\n",
       "[88883 rows x 2 columns]"
      ]
     },
     "metadata": {},
     "execution_count": 7
    }
   ],
   "metadata": {}
  },
  {
   "cell_type": "markdown",
   "source": [
    "* ### columns"
   ],
   "metadata": {}
  },
  {
   "cell_type": "code",
   "execution_count": 8,
   "source": [
    "df.columns"
   ],
   "outputs": [
    {
     "output_type": "execute_result",
     "data": {
      "text/plain": [
       "Index(['Respondent', 'MainBranch', 'Hobbyist', 'OpenSourcer', 'OpenSource',\n",
       "       'Employment', 'Country', 'Student', 'EdLevel', 'UndergradMajor',\n",
       "       'EduOther', 'OrgSize', 'DevType', 'YearsCode', 'Age1stCode',\n",
       "       'YearsCodePro', 'CareerSat', 'JobSat', 'MgrIdiot', 'MgrMoney',\n",
       "       'MgrWant', 'JobSeek', 'LastHireDate', 'LastInt', 'FizzBuzz',\n",
       "       'JobFactors', 'ResumeUpdate', 'CurrencySymbol', 'CurrencyDesc',\n",
       "       'CompTotal', 'CompFreq', 'ConvertedComp', 'WorkWeekHrs', 'WorkPlan',\n",
       "       'WorkChallenge', 'WorkRemote', 'WorkLoc', 'ImpSyn', 'CodeRev',\n",
       "       'CodeRevHrs', 'UnitTests', 'PurchaseHow', 'PurchaseWhat',\n",
       "       'LanguageWorkedWith', 'LanguageDesireNextYear', 'DatabaseWorkedWith',\n",
       "       'DatabaseDesireNextYear', 'PlatformWorkedWith',\n",
       "       'PlatformDesireNextYear', 'WebFrameWorkedWith',\n",
       "       'WebFrameDesireNextYear', 'MiscTechWorkedWith',\n",
       "       'MiscTechDesireNextYear', 'DevEnviron', 'OpSys', 'Containers',\n",
       "       'BlockchainOrg', 'BlockchainIs', 'BetterLife', 'ITperson', 'OffOn',\n",
       "       'SocialMedia', 'Extraversion', 'ScreenName', 'SOVisit1st',\n",
       "       'SOVisitFreq', 'SOVisitTo', 'SOFindAnswer', 'SOTimeSaved',\n",
       "       'SOHowMuchTime', 'SOAccount', 'SOPartFreq', 'SOJobs', 'EntTeams',\n",
       "       'SOComm', 'WelcomeChange', 'SONewContent', 'Age', 'Gender', 'Trans',\n",
       "       'Sexuality', 'Ethnicity', 'Dependents', 'SurveyLength', 'SurveyEase'],\n",
       "      dtype='object')"
      ]
     },
     "metadata": {},
     "execution_count": 8
    }
   ],
   "metadata": {}
  },
  {
   "cell_type": "markdown",
   "source": [
    "* ### selecting rows: iloc"
   ],
   "metadata": {}
  },
  {
   "cell_type": "code",
   "execution_count": 9,
   "source": [
    "df.iloc[0]  # get row by integer index"
   ],
   "outputs": [
    {
     "output_type": "execute_result",
     "data": {
      "text/plain": [
       "Respondent                                                                1\n",
       "MainBranch                           I am a student who is learning to code\n",
       "Hobbyist                                                                Yes\n",
       "OpenSourcer                                                           Never\n",
       "OpenSource                The quality of OSS and closed source software ...\n",
       "Employment                           Not employed, and not looking for work\n",
       "Country                                                      United Kingdom\n",
       "Student                                                                  No\n",
       "EdLevel                                           Primary/elementary school\n",
       "UndergradMajor                                                          NaN\n",
       "EduOther                  Taught yourself a new language, framework, or ...\n",
       "OrgSize                                                                 NaN\n",
       "DevType                                                                 NaN\n",
       "YearsCode                                                                 4\n",
       "Age1stCode                                                               10\n",
       "YearsCodePro                                                            NaN\n",
       "CareerSat                                                               NaN\n",
       "JobSat                                                                  NaN\n",
       "MgrIdiot                                                                NaN\n",
       "MgrMoney                                                                NaN\n",
       "MgrWant                                                                 NaN\n",
       "JobSeek                                                                 NaN\n",
       "LastHireDate                                                            NaN\n",
       "LastInt                                                                 NaN\n",
       "FizzBuzz                                                                NaN\n",
       "JobFactors                                                              NaN\n",
       "ResumeUpdate                                                            NaN\n",
       "CurrencySymbol                                                          NaN\n",
       "CurrencyDesc                                                            NaN\n",
       "CompTotal                                                               NaN\n",
       "CompFreq                                                                NaN\n",
       "ConvertedComp                                                           NaN\n",
       "WorkWeekHrs                                                             NaN\n",
       "WorkPlan                                                                NaN\n",
       "WorkChallenge                                                           NaN\n",
       "WorkRemote                                                              NaN\n",
       "WorkLoc                                                                 NaN\n",
       "ImpSyn                                                                  NaN\n",
       "CodeRev                                                                 NaN\n",
       "CodeRevHrs                                                              NaN\n",
       "UnitTests                                                               NaN\n",
       "PurchaseHow                                                             NaN\n",
       "PurchaseWhat                                                            NaN\n",
       "LanguageWorkedWith                          HTML/CSS;Java;JavaScript;Python\n",
       "LanguageDesireNextYear      C;C++;C#;Go;HTML/CSS;Java;JavaScript;Python;SQL\n",
       "DatabaseWorkedWith                                                   SQLite\n",
       "DatabaseDesireNextYear                                                MySQL\n",
       "PlatformWorkedWith                                            MacOS;Windows\n",
       "PlatformDesireNextYear                              Android;Arduino;Windows\n",
       "WebFrameWorkedWith                                             Django;Flask\n",
       "WebFrameDesireNextYear                                         Flask;jQuery\n",
       "MiscTechWorkedWith                                                  Node.js\n",
       "MiscTechDesireNextYear                                              Node.js\n",
       "DevEnviron                                       IntelliJ;Notepad++;PyCharm\n",
       "OpSys                                                               Windows\n",
       "Containers                                          I do not use containers\n",
       "BlockchainOrg                                                           NaN\n",
       "BlockchainIs                                                            NaN\n",
       "BetterLife                                                              Yes\n",
       "ITperson                           Fortunately, someone else has that title\n",
       "OffOn                                                                   Yes\n",
       "SocialMedia                                                         Twitter\n",
       "Extraversion                                                         Online\n",
       "ScreenName                                                         Username\n",
       "SOVisit1st                                                             2017\n",
       "SOVisitFreq                                 A few times per month or weekly\n",
       "SOVisitTo                 Find answers to specific questions;Learn how t...\n",
       "SOFindAnswer                                             3-5 times per week\n",
       "SOTimeSaved                                  Stack Overflow was much faster\n",
       "SOHowMuchTime                                                 31-60 minutes\n",
       "SOAccount                                                                No\n",
       "SOPartFreq                                                              NaN\n",
       "SOJobs                    No, I didn't know that Stack Overflow had a jo...\n",
       "EntTeams                                No, and I don't know what those are\n",
       "SOComm                                                              Neutral\n",
       "WelcomeChange                       Just as welcome now as I felt last year\n",
       "SONewContent              Tech articles written by other developers;Indu...\n",
       "Age                                                                    14.0\n",
       "Gender                                                                  Man\n",
       "Trans                                                                    No\n",
       "Sexuality                                           Straight / Heterosexual\n",
       "Ethnicity                                                               NaN\n",
       "Dependents                                                               No\n",
       "SurveyLength                                          Appropriate in length\n",
       "SurveyEase                                       Neither easy nor difficult\n",
       "Name: 0, dtype: object"
      ]
     },
     "metadata": {},
     "execution_count": 9
    }
   ],
   "metadata": {}
  },
  {
   "cell_type": "code",
   "execution_count": 11,
   "source": [
    "# 1. rows\r\n",
    "# 2. columns\r\n",
    "df.iloc[[0, 1], 1]"
   ],
   "outputs": [
    {
     "output_type": "execute_result",
     "data": {
      "text/plain": [
       "0    I am a student who is learning to code\n",
       "1    I am a student who is learning to code\n",
       "Name: MainBranch, dtype: object"
      ]
     },
     "metadata": {},
     "execution_count": 11
    }
   ],
   "metadata": {}
  },
  {
   "cell_type": "markdown",
   "source": [
    "* ### selecting rows: loc"
   ],
   "metadata": {}
  },
  {
   "cell_type": "code",
   "execution_count": 17,
   "source": [
    "# indexing by label\r\n",
    "# 1: row labels are numbers so no difference to iloc but label also possible\r\n",
    "df.loc[[0, 1], [\"MainBranch\", \"Hobbyist\"]]"
   ],
   "outputs": [
    {
     "output_type": "execute_result",
     "data": {
      "text/html": [
       "<div>\n",
       "<style scoped>\n",
       "    .dataframe tbody tr th:only-of-type {\n",
       "        vertical-align: middle;\n",
       "    }\n",
       "\n",
       "    .dataframe tbody tr th {\n",
       "        vertical-align: top;\n",
       "    }\n",
       "\n",
       "    .dataframe thead th {\n",
       "        text-align: right;\n",
       "    }\n",
       "</style>\n",
       "<table border=\"1\" class=\"dataframe\">\n",
       "  <thead>\n",
       "    <tr style=\"text-align: right;\">\n",
       "      <th></th>\n",
       "      <th>MainBranch</th>\n",
       "      <th>Hobbyist</th>\n",
       "    </tr>\n",
       "  </thead>\n",
       "  <tbody>\n",
       "    <tr>\n",
       "      <th>0</th>\n",
       "      <td>I am a student who is learning to code</td>\n",
       "      <td>Yes</td>\n",
       "    </tr>\n",
       "    <tr>\n",
       "      <th>1</th>\n",
       "      <td>I am a student who is learning to code</td>\n",
       "      <td>No</td>\n",
       "    </tr>\n",
       "  </tbody>\n",
       "</table>\n",
       "</div>"
      ],
      "text/plain": [
       "                               MainBranch Hobbyist\n",
       "0  I am a student who is learning to code      Yes\n",
       "1  I am a student who is learning to code       No"
      ]
     },
     "metadata": {},
     "execution_count": 17
    }
   ],
   "metadata": {}
  },
  {
   "cell_type": "markdown",
   "source": [
    "* ### slicing"
   ],
   "metadata": {}
  },
  {
   "cell_type": "code",
   "execution_count": 19,
   "source": [
    "# slicing same as in python lists but last element inclusive due to \r\n",
    "# slicing with strings would be suboptimal if last element not inclusive\r\n",
    "df.loc[0:2, \"Hobbyist\":\"Employment\"]"
   ],
   "outputs": [
    {
     "output_type": "execute_result",
     "data": {
      "text/html": [
       "<div>\n",
       "<style scoped>\n",
       "    .dataframe tbody tr th:only-of-type {\n",
       "        vertical-align: middle;\n",
       "    }\n",
       "\n",
       "    .dataframe tbody tr th {\n",
       "        vertical-align: top;\n",
       "    }\n",
       "\n",
       "    .dataframe thead th {\n",
       "        text-align: right;\n",
       "    }\n",
       "</style>\n",
       "<table border=\"1\" class=\"dataframe\">\n",
       "  <thead>\n",
       "    <tr style=\"text-align: right;\">\n",
       "      <th></th>\n",
       "      <th>Hobbyist</th>\n",
       "      <th>OpenSourcer</th>\n",
       "      <th>OpenSource</th>\n",
       "      <th>Employment</th>\n",
       "    </tr>\n",
       "  </thead>\n",
       "  <tbody>\n",
       "    <tr>\n",
       "      <th>0</th>\n",
       "      <td>Yes</td>\n",
       "      <td>Never</td>\n",
       "      <td>The quality of OSS and closed source software ...</td>\n",
       "      <td>Not employed, and not looking for work</td>\n",
       "    </tr>\n",
       "    <tr>\n",
       "      <th>1</th>\n",
       "      <td>No</td>\n",
       "      <td>Less than once per year</td>\n",
       "      <td>The quality of OSS and closed source software ...</td>\n",
       "      <td>Not employed, but looking for work</td>\n",
       "    </tr>\n",
       "    <tr>\n",
       "      <th>2</th>\n",
       "      <td>Yes</td>\n",
       "      <td>Never</td>\n",
       "      <td>The quality of OSS and closed source software ...</td>\n",
       "      <td>Employed full-time</td>\n",
       "    </tr>\n",
       "  </tbody>\n",
       "</table>\n",
       "</div>"
      ],
      "text/plain": [
       "  Hobbyist              OpenSourcer  \\\n",
       "0      Yes                    Never   \n",
       "1       No  Less than once per year   \n",
       "2      Yes                    Never   \n",
       "\n",
       "                                          OpenSource  \\\n",
       "0  The quality of OSS and closed source software ...   \n",
       "1  The quality of OSS and closed source software ...   \n",
       "2  The quality of OSS and closed source software ...   \n",
       "\n",
       "                               Employment  \n",
       "0  Not employed, and not looking for work  \n",
       "1      Not employed, but looking for work  \n",
       "2                      Employed full-time  "
      ]
     },
     "metadata": {},
     "execution_count": 19
    }
   ],
   "metadata": {}
  },
  {
   "cell_type": "code",
   "execution_count": null,
   "source": [
    "# after setting index, loc can be used for better searching\r\n",
    "# does trunc output\r\n",
    "schema_df.loc['MgrIdiot']"
   ],
   "outputs": [],
   "metadata": {
    "id": "X3WhXPqr4rzz"
   }
  }
 ],
 "metadata": {
  "orig_nbformat": 4,
  "language_info": {
   "name": "python",
   "version": "3.9.6",
   "mimetype": "text/x-python",
   "codemirror_mode": {
    "name": "ipython",
    "version": 3
   },
   "pygments_lexer": "ipython3",
   "nbconvert_exporter": "python",
   "file_extension": ".py"
  },
  "kernelspec": {
   "name": "python3",
   "display_name": "Python 3.9.6 64-bit ('venv': venv)"
  },
  "interpreter": {
   "hash": "10bb56018dfb7002895f873d2c51140764030ea9df51df08db65c436f8abe775"
  }
 },
 "nbformat": 4,
 "nbformat_minor": 2
}