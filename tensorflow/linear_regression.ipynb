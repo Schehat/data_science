{
  "nbformat": 4,
  "nbformat_minor": 2,
  "metadata": {
    "colab": {
      "name": "linear_regression.ipynb",
      "provenance": [],
      "collapsed_sections": [],
      "toc_visible": true
    },
    "kernelspec": {
      "name": "python3",
      "display_name": "Python 3"
    },
    "language_info": {
      "name": "python"
    }
  },
  "cells": [
    {
      "cell_type": "code",
      "execution_count": 1,
      "source": [
        "!pip install -q sklearn\r\n",
        "from __future__ import absolute_import, division, print_function, unicode_literals\r\n",
        "import pandas as pd\r\n",
        "import matplotlib.pyplot as plt\r\n",
        "from sklearn.metrics import roc_curve\r\n",
        "from IPython.display import clear_output\r\n",
        "import tensorflow as tf"
      ],
      "outputs": [],
      "metadata": {
        "id": "E-dtxkxE8ZQt"
      }
    },
    {
      "cell_type": "markdown",
      "source": [
        "## import data"
      ],
      "metadata": {
        "id": "-faIEt8fChQe"
      }
    },
    {
      "cell_type": "code",
      "execution_count": null,
      "source": [
        "# load dataset\r\n",
        "dftrain = pd.read_csv(\"https://storage.googleapis.com/tf-datasets/titanic/train.csv\")\r\n",
        "dftest = pd.read_csv(\"https://storage.googleapis.com/tf-datasets/titanic/eval.csv\")\r\n",
        "y_train = dftrain.pop(\"survived\")\r\n",
        "y_test = dftest.pop(\"survived\")\r\n",
        "\r\n",
        "# statistical analysis\r\n",
        "dftrain.describe()\r\n",
        "\r\n",
        "# 627 entries and 9 features\r\n",
        "dftrain.shape"
      ],
      "outputs": [],
      "metadata": {
        "id": "_GRd0xBgCdXf"
      }
    },
    {
      "cell_type": "markdown",
      "source": [
        "## graphs"
      ],
      "metadata": {
        "id": "uyAGX-fJDuot"
      }
    },
    {
      "cell_type": "code",
      "execution_count": 3,
      "source": [
        "dftrain.age.hist(bins=20)\r\n",
        "plt.show()\r\n",
        "\r\n",
        "dftrain.sex.value_counts().plot(kind=\"barh\")\r\n",
        "plt.show()\r\n",
        "\r\n",
        "dftrain[\"class\"].value_counts().plot(kind=\"barh\")\r\n",
        "plt.show()\r\n",
        "\r\n",
        "pd.concat([dftrain, y_train], axis=1).groupby(\"sex\").survived.mean().plot(kind=\"barh\").set_xlabel(\"% survive\")\r\n",
        "plt.show()"
      ],
      "outputs": [
        {
          "output_type": "display_data",
          "data": {
            "image/png": "[encoded data removed]",
            "text/plain": [
              "<Figure size 432x288 with 1 Axes>"
            ]
          },
          "metadata": {
            "tags": [],
            "needs_background": "light"
          }
        },
        {
          "output_type": "display_data",
          "data": {
            "image/png": "[encoded data removed]",
            "text/plain": [
              "<Figure size 432x288 with 1 Axes>"
            ]
          },
          "metadata": {
            "tags": [],
            "needs_background": "light"
          }
        },
        {
          "output_type": "display_data",
          "data": {
            "image/png": "[encoded data removed]",
            "text/plain": [
              "<Figure size 432x288 with 1 Axes>"
            ]
          },
          "metadata": {
            "tags": [],
            "needs_background": "light"
          }
        },
        {
          "output_type": "display_data",
          "data": {
            "image/png": "[encoded data removed]",
            "text/plain": [
              "<Figure size 432x288 with 1 Axes>"
            ]
          },
          "metadata": {
            "tags": [],
            "needs_background": "light"
          }
        }
      ],
      "metadata": {
        "id": "yup6vNkLDy9n",
        "colab": {
          "base_uri": "https://localhost:8080/",
          "height": 1000
        },
        "outputId": "3446c8df-2128-41c6-d549-b0f1b835be1e"
      }
    },
    {
      "cell_type": "markdown",
      "source": [
        "## feature engineering"
      ],
      "metadata": {
        "id": "fhPP3QCwJ3zR"
      }
    },
    {
      "cell_type": "code",
      "execution_count": 4,
      "source": [
        "CATEGORICAL_COLUMNS = [\"sex\", \"n_siblings_spouses\", \"parch\", \"class\", \"deck\",\r\n",
        "                       \"embark_town\", \"alone\"]\r\n",
        "NUMERIC_COLUMNS = [\"age\", \"fare\"]\r\n",
        "\r\n",
        "feature_columns = []\r\n",
        "for feature_name in CATEGORICAL_COLUMNS:\r\n",
        "  vocabulary = dftrain[feature_name].unique()\r\n",
        "  feature_columns.append(tf.feature_column.categorical_column_with_vocabulary_list(feature_name, vocabulary))\r\n",
        "\r\n",
        "for feature_name in NUMERIC_COLUMNS:\r\n",
        "  feature_columns.append(tf.feature_column.numeric_column(feature_name, dtype=tf.float16))\r\n",
        "\r\n",
        "feature_columns"
      ],
      "outputs": [
        {
          "output_type": "stream",
          "name": "stdout",
          "text": [
            "[VocabularyListCategoricalColumn(key='sex', vocabulary_list=('male', 'female'), dtype=tf.string, default_value=-1, num_oov_buckets=0), VocabularyListCategoricalColumn(key='n_siblings_spouses', vocabulary_list=(1, 0, 3, 4, 2, 5, 8), dtype=tf.int64, default_value=-1, num_oov_buckets=0), VocabularyListCategoricalColumn(key='parch', vocabulary_list=(0, 1, 2, 5, 3, 4), dtype=tf.int64, default_value=-1, num_oov_buckets=0), VocabularyListCategoricalColumn(key='class', vocabulary_list=('Third', 'First', 'Second'), dtype=tf.string, default_value=-1, num_oov_buckets=0), VocabularyListCategoricalColumn(key='deck', vocabulary_list=('unknown', 'C', 'G', 'A', 'B', 'D', 'F', 'E'), dtype=tf.string, default_value=-1, num_oov_buckets=0), VocabularyListCategoricalColumn(key='embark_town', vocabulary_list=('Southampton', 'Cherbourg', 'Queenstown', 'unknown'), dtype=tf.string, default_value=-1, num_oov_buckets=0), VocabularyListCategoricalColumn(key='alone', vocabulary_list=('n', 'y'), dtype=tf.string, default_value=-1, num_oov_buckets=0), NumericColumn(key='age', shape=(1,), default_value=None, dtype=tf.float16, normalizer_fn=None), NumericColumn(key='fare', shape=(1,), default_value=None, dtype=tf.float16, normalizer_fn=None)]\n"
          ]
        }
      ],
      "metadata": {
        "colab": {
          "base_uri": "https://localhost:8080/"
        },
        "id": "9rphJdOAJ7Rk",
        "outputId": "2b3407d1-5158-44f5-a010-bb1b653a96cc"
      }
    },
    {
      "cell_type": "markdown",
      "source": [
        "## input function"
      ],
      "metadata": {
        "id": "IryHRTCxQgoE"
      }
    },
    {
      "cell_type": "code",
      "execution_count": 5,
      "source": [
        "def make_input_fn(data_df, label_df, num_epochs=10, shuffle=True, batch_size=32):\r\n",
        "  # inner function, this will be returned\r\n",
        "  def input_function():\r\n",
        "    # create tf.data.Dataset object with data and its label\r\n",
        "    ds = tf.data.Dataset.from_tensor_slices((dict(data_df), label_df))\r\n",
        "    if shuffle:\r\n",
        "      # randomize order of data\r\n",
        "      ds = ds.shuffle(1000)\r\n",
        "    # split dataset into batches of 32 and repeat process for number of epochs\r\n",
        "    ds = ds.batch(batch_size).repeat(num_epochs)\r\n",
        "    # return a batch of the dataset\r\n",
        "    return ds \r\n",
        "  # return a function object for use\r\n",
        "  return input_function\r\n",
        "\r\n",
        "# call the input_function that was returned to us to get a dataset object we can feed to the model\r\n",
        "train_input_fn = make_input_fn(dftrain, y_train)  \r\n",
        "test_input_fn = make_input_fn(dftest, y_test, num_epochs=1, shuffle=False)"
      ],
      "outputs": [],
      "metadata": {
        "id": "tE3xiatHQiiO"
      }
    },
    {
      "cell_type": "markdown",
      "source": [
        "## create model & train"
      ],
      "metadata": {
        "id": "O9MUxuTHR55V"
      }
    },
    {
      "cell_type": "code",
      "execution_count": 6,
      "source": [
        "linear_est = tf.estimator.LinearClassifier(feature_columns=feature_columns)\r\n",
        "linear_est.train(train_input_fn)  # train\r\n",
        "result = linear_est.evaluate(test_input_fn)  # get model metrics/stats by testing on tetsing data\r\n",
        "\r\n",
        "clear_output()  # clears consoke output\r\n",
        "result[\"accuracy\"]  # the result variable is simply a dict of stats about our model"
      ],
      "outputs": [
        {
          "output_type": "stream",
          "name": "stdout",
          "text": [
            "0.74242425\n"
          ]
        }
      ],
      "metadata": {
        "colab": {
          "base_uri": "https://localhost:8080/"
        },
        "id": "FVu21asuR8p-",
        "outputId": "66a2dd3e-2bd4-4e15-fb35-3b1eeba0776c"
      }
    },
    {
      "cell_type": "markdown",
      "source": [
        "## predict \r\n"
      ],
      "metadata": {
        "id": "IoDmjrndS0i1"
      }
    },
    {
      "cell_type": "code",
      "execution_count": 7,
      "source": [
        "# get the prediction for one data point\r\n",
        "result = list(linear_est.predict(test_input_fn))\r\n",
        "print(dftest.loc[3])\r\n",
        "print(\"survived: \" + str(y_test.loc[3]))\r\n",
        "print(\"predicted survival chance: \" + str(result[3][\"probabilities\"][1]))"
      ],
      "outputs": [
        {
          "output_type": "stream",
          "name": "stdout",
          "text": [
            "INFO:tensorflow:Calling model_fn.\n"
          ]
        },
        {
          "output_type": "stream",
          "name": "stderr",
          "text": [
            "/usr/local/lib/python3.7/dist-packages/tensorflow/python/keras/engine/base_layer_v1.py:1700: UserWarning: `layer.add_variable` is deprecated and will be removed in a future version. Please use `layer.add_weight` method instead.\n",
            "  warnings.warn('`layer.add_variable` is deprecated and '\n"
          ]
        },
        {
          "output_type": "stream",
          "name": "stdout",
          "text": [
            "INFO:tensorflow:Done calling model_fn.\n",
            "INFO:tensorflow:Graph was finalized.\n",
            "INFO:tensorflow:Restoring parameters from /tmp/tmpg_062gvj/model.ckpt-200\n",
            "INFO:tensorflow:Running local_init_op.\n",
            "INFO:tensorflow:Done running local_init_op.\n",
            "sex                        female\n",
            "age                            55\n",
            "n_siblings_spouses              0\n",
            "parch                           0\n",
            "fare                           16\n",
            "class                      Second\n",
            "deck                      unknown\n",
            "embark_town           Southampton\n",
            "alone                           y\n",
            "Name: 3, dtype: object\n",
            "survived: 1\n",
            "predicted survival chance: 0.85530263\n"
          ]
        }
      ],
      "metadata": {
        "id": "9Mxv-3i6Wb7l",
        "colab": {
          "base_uri": "https://localhost:8080/"
        },
        "outputId": "a4f3b1f5-0af1-401a-aa38-6d00aa087a83"
      }
    },
    {
      "cell_type": "code",
      "execution_count": 8,
      "source": [
        "pred_dicts = list(linear_est.predict(test_input_fn))\r\n",
        "probs = pd.Series([pred[\"probabilities\"][1] for pred in pred_dicts])\r\n",
        "\r\n",
        "# plot histogram\r\n",
        "probs.plot(kind=\"hist\", bins=20, title=\"predicted probabilities\")\r\n",
        "plt.show()\r\n",
        "\r\n",
        "# plot roc curve\r\n",
        "fpr, tpr, _ = roc_curve(y_test, probs)\r\n",
        "plt.plot(fpr, tpr)\r\n",
        "plt.title(\"ROC curve\")\r\n",
        "plt.xlabel(\"false positive rate\")\r\n",
        "plt.ylabel(\"true positive rate\")\r\n",
        "plt.xlim(0,)\r\n",
        "plt.ylim(0,)\r\n",
        "plt.show()"
      ],
      "outputs": [
        {
          "output_type": "stream",
          "name": "stdout",
          "text": [
            "INFO:tensorflow:Calling model_fn.\n"
          ]
        },
        {
          "output_type": "stream",
          "name": "stderr",
          "text": [
            "/usr/local/lib/python3.7/dist-packages/tensorflow/python/keras/engine/base_layer_v1.py:1700: UserWarning: `layer.add_variable` is deprecated and will be removed in a future version. Please use `layer.add_weight` method instead.\n",
            "  warnings.warn('`layer.add_variable` is deprecated and '\n"
          ]
        },
        {
          "output_type": "stream",
          "name": "stdout",
          "text": [
            "INFO:tensorflow:Done calling model_fn.\n",
            "INFO:tensorflow:Graph was finalized.\n",
            "INFO:tensorflow:Restoring parameters from /tmp/tmpg_062gvj/model.ckpt-200\n",
            "INFO:tensorflow:Running local_init_op.\n",
            "INFO:tensorflow:Done running local_init_op.\n"
          ]
        },
        {
          "output_type": "display_data",
          "data": {
            "image/png": "[encoded data removed]",
            "text/plain": [
              "<Figure size 432x288 with 1 Axes>"
            ]
          },
          "metadata": {
            "tags": [],
            "needs_background": "light"
          }
        },
        {
          "output_type": "display_data",
          "data": {
            "image/png": "[encoded data removed]",
            "text/plain": [
              "<Figure size 432x288 with 1 Axes>"
            ]
          },
          "metadata": {
            "tags": [],
            "needs_background": "light"
          }
        }
      ],
      "metadata": {
        "colab": {
          "base_uri": "https://localhost:8080/",
          "height": 715
        },
        "id": "kNymUNwmYcgf",
        "outputId": "7beb8ebd-d692-44b3-e6be-c96df93816a6"
      }
    }
  ]
}