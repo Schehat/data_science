{
  "nbformat": 4,
  "nbformat_minor": 2,
  "metadata": {
    "colab": {
      "name": "hidden_markov_model.ipynb",
      "provenance": [],
      "collapsed_sections": [],
      "toc_visible": true
    },
    "kernelspec": {
      "name": "python3",
      "display_name": "Python 3"
    },
    "language_info": {
      "name": "python"
    }
  },
  "cells": [
    {
      "cell_type": "code",
      "execution_count": null,
      "source": [
        "%tensorflow_version 2.x  # required in google colab\r\n",
        "# Due to version mismatch with tf v2 and tensorflow_probability need install recent version of tensorflow_probability\r\n",
        "!pip install tensorflow_probability==0.8.0rc0 --user --upgrade\r\n",
        "import tensorflow_probability as tfp  # We are using a different module from tensorflow this time\r\n",
        "import tensorflow as tf"
      ],
      "outputs": [],
      "metadata": {
        "id": "cuQnUvIp06-p"
      }
    },
    {
      "cell_type": "markdown",
      "source": [
        "## simple weather model"
      ],
      "metadata": {
        "id": "NMB2Xv7y3wdY"
      }
    },
    {
      "cell_type": "code",
      "execution_count": 2,
      "source": [
        "tfd = tfp.distributions  # shortcut for the next lines\r\n",
        "tfd = tfp.distributions\r\n",
        "\r\n",
        "# A simple weather model.\r\n",
        "\r\n",
        "# Represent a cold day with 0 and a hot day with 1.\r\n",
        "# Suppose the first day of a sequence has a 0.8 chance of being cold.\r\n",
        "# We can model this using the categorical distribution:\r\n",
        "\r\n",
        "initial_distribution = tfd.Categorical(probs=[0.8, 0.2])\r\n",
        "\r\n",
        "# Suppose a cold day has a 30% chance of being followed by a hot day\r\n",
        "# and a hot day has a 20% chance of being followed by a cold day.\r\n",
        "# We can model this as:\r\n",
        "\r\n",
        "transition_distribution = tfd.Categorical(probs=[[0.7, 0.3],\r\n",
        "                                                 [0.2, 0.8]])\r\n",
        "\r\n",
        "# Suppose additionally that on each day the temperature is\r\n",
        "# normally distributed with mean and standard deviation 0 and 5 on\r\n",
        "# a cold day and mean and standard deviation 15 and 10 on a hot day.\r\n",
        "# We can model this with:\r\n",
        "\r\n",
        "observation_distribution = tfd.Normal(loc=[0., 15.], scale=[5., 10.])  # loc: mean & scale: std"
      ],
      "outputs": [],
      "metadata": {
        "id": "FyxoKlLe33f4"
      }
    },
    {
      "cell_type": "markdown",
      "source": [
        "## create model & prediction"
      ],
      "metadata": {
        "id": "9Zc0JbdO6DqR"
      }
    },
    {
      "cell_type": "code",
      "execution_count": 6,
      "source": [
        "# We can combine these distributions into a single week long\r\n",
        "# hidden Markov model with:\r\n",
        "\r\n",
        "model = tfd.HiddenMarkovModel(\r\n",
        "    initial_distribution=initial_distribution,\r\n",
        "    transition_distribution=transition_distribution,\r\n",
        "    observation_distribution=observation_distribution,\r\n",
        "    num_steps=7)\r\n",
        "\r\n",
        "model.mean()  # shape [7]\r\n",
        "# model.mean().numpy()"
      ],
      "outputs": [
        {
          "output_type": "stream",
          "name": "stdout",
          "text": [
            "tf.Tensor([2.9999998 5.9999995 7.4999995 8.25      8.625001  8.812501  8.90625  ], shape=(7,), dtype=float32)\n"
          ]
        }
      ],
      "metadata": {
        "colab": {
          "base_uri": "https://localhost:8080/"
        },
        "id": "q7rLoFJ96GME",
        "outputId": "33f9ceca-899a-4718-be3e-31f87d09a8bf"
      }
    }
  ]
}